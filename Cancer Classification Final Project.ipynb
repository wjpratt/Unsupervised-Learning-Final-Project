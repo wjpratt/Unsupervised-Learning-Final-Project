{
 "cells": [
  {
   "cell_type": "markdown",
   "id": "ab16bb18",
   "metadata": {},
   "source": [
    "## Project Description"
   ]
  },
  {
   "cell_type": "markdown",
   "id": "d3d9845f",
   "metadata": {},
   "source": [
    "This project will be focusing on a machine learning area that frequently uses both supervised and unsupervised models, that being natural language processing. \n",
    "\n",
    "We will be exploring and creating two models for a medical dataset containing research papers on 3 different types of cancer: Thyroid, Lung and Colon.\n",
    "\n",
    "In many cases text classification of medical documents primarily consists of unstructured free text that clinicians need to group together and harmonize in a timely manner. NLP helps to automate this process by making sense of these massive amounts of textual data.\n",
    "\n",
    "For this project we will be employing an unsupervised learning model called Latent Dirichlet Allocation (LDA) and a deep learning algorithm known as a bidirectional LSTM. The goal is to correctly assess whether the publication is dicussing colon cancer, lung cancer, or thyroid cancer. After deploying both of these models we will compare each and discuss the pros and cons of each."
   ]
  },
  {
   "cell_type": "markdown",
   "id": "32b6fd02",
   "metadata": {},
   "source": [
    "### Data Source and Description"
   ]
  },
  {
   "cell_type": "markdown",
   "id": "c3dd39ff",
   "metadata": {},
   "source": [
    "We will be using a dataset from Kaggle. The title of the dataset is \"Medical Text Dataset -Cancer Doc Classification.\" There are a total of 7569 publications in the dataset with two useful columns. Those being the class label column where we have our three target cancers listed and the text column, where we have our publications' text. A link to the dataset is listed below.\n",
    "\n",
    "https://www.kaggle.com/datasets/falgunipatel19/biomedical-text-publication-classification"
   ]
  },
  {
   "cell_type": "markdown",
   "id": "b2e6e977",
   "metadata": {},
   "source": [
    "#### Import Libraries"
   ]
  },
  {
   "cell_type": "code",
   "execution_count": 1,
   "id": "9799307d",
   "metadata": {},
   "outputs": [],
   "source": [
    "import numpy as np\n",
    "import pandas as pd\n",
    "import matplotlib.pyplot as plt\n",
    "import seaborn as sns"
   ]
  },
  {
   "cell_type": "code",
   "execution_count": 2,
   "id": "b1306cc8",
   "metadata": {},
   "outputs": [],
   "source": [
    "from nltk.corpus import stopwords\n",
    "from sklearn.feature_extraction.text import TfidfVectorizer, CountVectorizer\n",
    "from sklearn.metrics import accuracy_score, precision_score, recall_score, confusion_matrix"
   ]
  },
  {
   "cell_type": "code",
   "execution_count": 3,
   "id": "85eccdd5",
   "metadata": {},
   "outputs": [],
   "source": [
    "import keras\n",
    "from keras.models import Sequential\n",
    "from keras.initializers import Constant\n",
    "from keras.layers import (LSTM, \n",
    "                          Embedding, \n",
    "                          BatchNormalization,\n",
    "                          Dense, \n",
    "                          TimeDistributed, \n",
    "                          Dropout, \n",
    "                          Bidirectional,\n",
    "                          Flatten, \n",
    "                          GlobalMaxPool1D)\n",
    "from nltk.tokenize import word_tokenize\n",
    "from keras.preprocessing.text import Tokenizer\n",
    "from string import digits"
   ]
  },
  {
   "cell_type": "code",
   "execution_count": 4,
   "id": "14640df8",
   "metadata": {},
   "outputs": [],
   "source": [
    "from keras_preprocessing.sequence import pad_sequences\n",
    "from keras.callbacks import ModelCheckpoint, ReduceLROnPlateau"
   ]
  },
  {
   "cell_type": "markdown",
   "id": "00f81777",
   "metadata": {},
   "source": [
    "#### Import Data"
   ]
  },
  {
   "cell_type": "code",
   "execution_count": 5,
   "id": "7c853041",
   "metadata": {},
   "outputs": [],
   "source": [
    "df = pd.read_csv(\"alldata_1_for_kaggle.csv\", encoding = 'latin1')"
   ]
  },
  {
   "cell_type": "markdown",
   "id": "2c4dfcb0",
   "metadata": {},
   "source": [
    "### Exploratory Data Analysis"
   ]
  },
  {
   "cell_type": "code",
   "execution_count": 6,
   "id": "d622c1b7",
   "metadata": {},
   "outputs": [
    {
     "data": {
      "text/html": [
       "<div>\n",
       "<style scoped>\n",
       "    .dataframe tbody tr th:only-of-type {\n",
       "        vertical-align: middle;\n",
       "    }\n",
       "\n",
       "    .dataframe tbody tr th {\n",
       "        vertical-align: top;\n",
       "    }\n",
       "\n",
       "    .dataframe thead th {\n",
       "        text-align: right;\n",
       "    }\n",
       "</style>\n",
       "<table border=\"1\" class=\"dataframe\">\n",
       "  <thead>\n",
       "    <tr style=\"text-align: right;\">\n",
       "      <th></th>\n",
       "      <th>Unnamed: 0</th>\n",
       "      <th>0</th>\n",
       "      <th>a</th>\n",
       "    </tr>\n",
       "  </thead>\n",
       "  <tbody>\n",
       "    <tr>\n",
       "      <th>0</th>\n",
       "      <td>0</td>\n",
       "      <td>Thyroid_Cancer</td>\n",
       "      <td>Thyroid surgery in  children in a single insti...</td>\n",
       "    </tr>\n",
       "    <tr>\n",
       "      <th>1</th>\n",
       "      <td>1</td>\n",
       "      <td>Thyroid_Cancer</td>\n",
       "      <td>\" The adopted strategy was the same as that us...</td>\n",
       "    </tr>\n",
       "    <tr>\n",
       "      <th>2</th>\n",
       "      <td>2</td>\n",
       "      <td>Thyroid_Cancer</td>\n",
       "      <td>coronary arterybypass grafting thrombosis ï¬b...</td>\n",
       "    </tr>\n",
       "    <tr>\n",
       "      <th>3</th>\n",
       "      <td>3</td>\n",
       "      <td>Thyroid_Cancer</td>\n",
       "      <td>Solitary plasmacytoma SP of the skull is an u...</td>\n",
       "    </tr>\n",
       "    <tr>\n",
       "      <th>4</th>\n",
       "      <td>4</td>\n",
       "      <td>Thyroid_Cancer</td>\n",
       "      <td>This study aimed to investigate serum matrix ...</td>\n",
       "    </tr>\n",
       "  </tbody>\n",
       "</table>\n",
       "</div>"
      ],
      "text/plain": [
       "   Unnamed: 0               0  \\\n",
       "0           0  Thyroid_Cancer   \n",
       "1           1  Thyroid_Cancer   \n",
       "2           2  Thyroid_Cancer   \n",
       "3           3  Thyroid_Cancer   \n",
       "4           4  Thyroid_Cancer   \n",
       "\n",
       "                                                   a  \n",
       "0  Thyroid surgery in  children in a single insti...  \n",
       "1  \" The adopted strategy was the same as that us...  \n",
       "2  coronary arterybypass grafting thrombosis ï¬b...  \n",
       "3   Solitary plasmacytoma SP of the skull is an u...  \n",
       "4   This study aimed to investigate serum matrix ...  "
      ]
     },
     "execution_count": 6,
     "metadata": {},
     "output_type": "execute_result"
    }
   ],
   "source": [
    "df.head()"
   ]
  },
  {
   "cell_type": "code",
   "execution_count": 7,
   "id": "4cc3cdba",
   "metadata": {},
   "outputs": [
    {
     "data": {
      "text/html": [
       "<div>\n",
       "<style scoped>\n",
       "    .dataframe tbody tr th:only-of-type {\n",
       "        vertical-align: middle;\n",
       "    }\n",
       "\n",
       "    .dataframe tbody tr th {\n",
       "        vertical-align: top;\n",
       "    }\n",
       "\n",
       "    .dataframe thead th {\n",
       "        text-align: right;\n",
       "    }\n",
       "</style>\n",
       "<table border=\"1\" class=\"dataframe\">\n",
       "  <thead>\n",
       "    <tr style=\"text-align: right;\">\n",
       "      <th></th>\n",
       "      <th>Unnamed: 0</th>\n",
       "    </tr>\n",
       "  </thead>\n",
       "  <tbody>\n",
       "    <tr>\n",
       "      <th>count</th>\n",
       "      <td>7570.000000</td>\n",
       "    </tr>\n",
       "    <tr>\n",
       "      <th>mean</th>\n",
       "      <td>3784.500000</td>\n",
       "    </tr>\n",
       "    <tr>\n",
       "      <th>std</th>\n",
       "      <td>2185.415102</td>\n",
       "    </tr>\n",
       "    <tr>\n",
       "      <th>min</th>\n",
       "      <td>0.000000</td>\n",
       "    </tr>\n",
       "    <tr>\n",
       "      <th>25%</th>\n",
       "      <td>1892.250000</td>\n",
       "    </tr>\n",
       "    <tr>\n",
       "      <th>50%</th>\n",
       "      <td>3784.500000</td>\n",
       "    </tr>\n",
       "    <tr>\n",
       "      <th>75%</th>\n",
       "      <td>5676.750000</td>\n",
       "    </tr>\n",
       "    <tr>\n",
       "      <th>max</th>\n",
       "      <td>7569.000000</td>\n",
       "    </tr>\n",
       "  </tbody>\n",
       "</table>\n",
       "</div>"
      ],
      "text/plain": [
       "        Unnamed: 0\n",
       "count  7570.000000\n",
       "mean   3784.500000\n",
       "std    2185.415102\n",
       "min       0.000000\n",
       "25%    1892.250000\n",
       "50%    3784.500000\n",
       "75%    5676.750000\n",
       "max    7569.000000"
      ]
     },
     "execution_count": 7,
     "metadata": {},
     "output_type": "execute_result"
    }
   ],
   "source": [
    "df.describe()"
   ]
  },
  {
   "cell_type": "code",
   "execution_count": 8,
   "id": "d90109f1",
   "metadata": {},
   "outputs": [
    {
     "data": {
      "text/plain": [
       "Unnamed: 0     int64\n",
       "0             object\n",
       "a             object\n",
       "dtype: object"
      ]
     },
     "execution_count": 8,
     "metadata": {},
     "output_type": "execute_result"
    }
   ],
   "source": [
    "df.dtypes"
   ]
  },
  {
   "cell_type": "markdown",
   "id": "79a01728",
   "metadata": {},
   "source": [
    "It looks like we will not need the unnamed column as it is just an index column."
   ]
  },
  {
   "cell_type": "code",
   "execution_count": 9,
   "id": "9773179a",
   "metadata": {},
   "outputs": [],
   "source": [
    "df=df.drop('Unnamed: 0',axis=1)"
   ]
  },
  {
   "cell_type": "markdown",
   "id": "a3f206cf",
   "metadata": {},
   "source": [
    "Now we can change our column names to something more intuitive."
   ]
  },
  {
   "cell_type": "code",
   "execution_count": 10,
   "id": "0089565c",
   "metadata": {},
   "outputs": [],
   "source": [
    "df = df.rename(columns={'0': 'Target','a':'Text'})"
   ]
  },
  {
   "cell_type": "code",
   "execution_count": 11,
   "id": "b6f63c27",
   "metadata": {},
   "outputs": [
    {
     "data": {
      "text/html": [
       "<div>\n",
       "<style scoped>\n",
       "    .dataframe tbody tr th:only-of-type {\n",
       "        vertical-align: middle;\n",
       "    }\n",
       "\n",
       "    .dataframe tbody tr th {\n",
       "        vertical-align: top;\n",
       "    }\n",
       "\n",
       "    .dataframe thead th {\n",
       "        text-align: right;\n",
       "    }\n",
       "</style>\n",
       "<table border=\"1\" class=\"dataframe\">\n",
       "  <thead>\n",
       "    <tr style=\"text-align: right;\">\n",
       "      <th></th>\n",
       "      <th>Target</th>\n",
       "      <th>Text</th>\n",
       "    </tr>\n",
       "  </thead>\n",
       "  <tbody>\n",
       "    <tr>\n",
       "      <th>0</th>\n",
       "      <td>Thyroid_Cancer</td>\n",
       "      <td>Thyroid surgery in  children in a single insti...</td>\n",
       "    </tr>\n",
       "    <tr>\n",
       "      <th>1</th>\n",
       "      <td>Thyroid_Cancer</td>\n",
       "      <td>\" The adopted strategy was the same as that us...</td>\n",
       "    </tr>\n",
       "    <tr>\n",
       "      <th>2</th>\n",
       "      <td>Thyroid_Cancer</td>\n",
       "      <td>coronary arterybypass grafting thrombosis ï¬b...</td>\n",
       "    </tr>\n",
       "    <tr>\n",
       "      <th>3</th>\n",
       "      <td>Thyroid_Cancer</td>\n",
       "      <td>Solitary plasmacytoma SP of the skull is an u...</td>\n",
       "    </tr>\n",
       "    <tr>\n",
       "      <th>4</th>\n",
       "      <td>Thyroid_Cancer</td>\n",
       "      <td>This study aimed to investigate serum matrix ...</td>\n",
       "    </tr>\n",
       "    <tr>\n",
       "      <th>...</th>\n",
       "      <td>...</td>\n",
       "      <td>...</td>\n",
       "    </tr>\n",
       "    <tr>\n",
       "      <th>7565</th>\n",
       "      <td>Colon_Cancer</td>\n",
       "      <td>we report the case of a 24yearold man who pres...</td>\n",
       "    </tr>\n",
       "    <tr>\n",
       "      <th>7566</th>\n",
       "      <td>Colon_Cancer</td>\n",
       "      <td>among synchronous colorectal cancers scrcs rep...</td>\n",
       "    </tr>\n",
       "    <tr>\n",
       "      <th>7567</th>\n",
       "      <td>Colon_Cancer</td>\n",
       "      <td>the heterogeneity of cancer cells is generally...</td>\n",
       "    </tr>\n",
       "    <tr>\n",
       "      <th>7568</th>\n",
       "      <td>Colon_Cancer</td>\n",
       "      <td>\"adipogenesis is the process through which mes...</td>\n",
       "    </tr>\n",
       "    <tr>\n",
       "      <th>7569</th>\n",
       "      <td>Colon_Cancer</td>\n",
       "      <td>the periparturient period is one of the most c...</td>\n",
       "    </tr>\n",
       "  </tbody>\n",
       "</table>\n",
       "<p>7570 rows × 2 columns</p>\n",
       "</div>"
      ],
      "text/plain": [
       "              Target                                               Text\n",
       "0     Thyroid_Cancer  Thyroid surgery in  children in a single insti...\n",
       "1     Thyroid_Cancer  \" The adopted strategy was the same as that us...\n",
       "2     Thyroid_Cancer  coronary arterybypass grafting thrombosis ï¬b...\n",
       "3     Thyroid_Cancer   Solitary plasmacytoma SP of the skull is an u...\n",
       "4     Thyroid_Cancer   This study aimed to investigate serum matrix ...\n",
       "...              ...                                                ...\n",
       "7565    Colon_Cancer  we report the case of a 24yearold man who pres...\n",
       "7566    Colon_Cancer  among synchronous colorectal cancers scrcs rep...\n",
       "7567    Colon_Cancer  the heterogeneity of cancer cells is generally...\n",
       "7568    Colon_Cancer  \"adipogenesis is the process through which mes...\n",
       "7569    Colon_Cancer  the periparturient period is one of the most c...\n",
       "\n",
       "[7570 rows x 2 columns]"
      ]
     },
     "execution_count": 11,
     "metadata": {},
     "output_type": "execute_result"
    }
   ],
   "source": [
    "df"
   ]
  },
  {
   "cell_type": "markdown",
   "id": "959aecdb",
   "metadata": {},
   "source": [
    "Let's look at an example of each of the 3 types of publications we will be classifying, to get an idea of what we are dealing with."
   ]
  },
  {
   "cell_type": "code",
   "execution_count": 12,
   "id": "301c56d5",
   "metadata": {},
   "outputs": [
    {
     "data": {
      "text/plain": [
       "'\" The adopted strategy was the same as that used in prior years [] and is based on four exclusive queries that return  four  disjoint  citation  subsets The first query QPub_plain is based on a plaintext search in PubMed titles and s using keywords The  second  query  QPub_indexed relies on the PubMed indexing scheme using MeSH terms and results are made exclusive of the previous set The third one QWoS_restricted is based on a plaintext search in WoS restricted to the two research areas \\x9cMedical Informatics\\x9d and \\x9cHealth Care Sciences  Services\\x9d The fourth query QWoS_filtered is based on the same plaintext search used in WoS but filtered by nonrelevant research areas eg Archeology Dance Zoology etc and the two research areas of the previous query It is of note that the two WoS queries select  only  nonPubMedindexed  papers that are supposed to be caught by the two PubMed queriesA  first  review  of  the  four  subsets  of retrieved  citations  was  performed  by  the two section editors to select  candidate best papers Following the IMIA Yearbook protocol these candidate best papers were then individually reviewed and rated by both section editors the chief editor of the Decision Support section and external reviewers from the international Medical Informatics community Based on the reviewers\\x99 ratings and comments the Yearbook editorial committee then selected the best papers of the year in the decision support domainIMIA Yearbook of Medical Informatics                                    IMIA and Ge Thieme Verlag KG 0cReview Results The    literature  search  has  been  performed on January   A total of  unique references were obtained distributed as follows  for QPub_plain  for QPub_indexed  for QWoS_restricted and  for QWoS_filtered yielding subtotals of  references from PubMed and  from WoS Compared to the previous year the global query retrieved   more  papers After  a  first  individual screening independently performed by both section editors based on the title and  of papers  not rejected by both section editors were discussed by the two editors to achieve a final selection of  candidate best  papers After  the  external  review  of these    s  the  editorial  committee finally selected three of them as best papers for  [\\x93] Table  They are discussed in the next section and summaries of their contents are available in the AppendixDiscussion and OutlookIn the first paper Hendriks  [] propose an approach to the modeling of clinical practice guidelines which certainly builds on already existing approaches but which is systematically conducted in order to be scalable and used to represent complex guidelines They promote the formalism of clinical decision trees CDTs as they are both clinically interpretable  by  healthcare  professionals and  computerinterpretable  thus  suitable for implementation in datadriven CDSSs The disambiguation of textual guidelines is supported first by the formal unequivocal specification of data items used as decision criteria using international coding systems to enforce interoperability and second by the representation of guideline knowledge as CDTs The method is applied to the Dutch breast cancer guidelines Sixty CDTs were built  involving  a  total  of    data  items among  which    could  not  be  linked  to standard terminologies The authors report the ambiguity of certain criteria which could be subjective or had multiple definitions The resulting knowledge base was implemented in a decision support application where it can be interactively browsed or automatically executed By modeling guidelines in such a way this work is a step forward in the sharing of encoded knowledgeIn the second paper KamiÅ¡aliÄ\\x87  [] tackled the issues linked to the formalization of the medical processes used for managing chronic diseases and their execution in CDSSs They analyzed the decisionmaking dimensions of the therapeutic management of chronic diseases like those known to increase the cardiovascular risk and identified three basic levels therapy strategy dosage adaptation and intolerance management To handle these  different  aspects  consistently  they propose a formalism called extended Timed Transition Diagram eTTD With eTTDs they illustrate the multilevel and finegrained modeling required to capture the contents of arterial hypertension management guidelines This detailed demonstration on how procedural knowledge for hypertension management can be formalized to develop a CDSS could certainly be used in other medical domainsThe third paper by Khalifa  [] presents a conceptual and practical framework to help assess confidence in predictive tools GRASP  for  Grade  and Assess  Predictive Tools is both a method to look for evidence from the published literature and an analysis grid It standardizes the assessment of the available literature associated to a predictive tool and the grading of its level of proof Three phases of evaluation are considered i before the implementation of the tool to assess both its internal and external validity ii during the implementation to assess its potential effect and usability and iii after the implementation to assess its effectiveness and safety In each phase the level of evidence  can  be  assessed  from  the  study design A qualitative  summarizes the direction of evidence positive negative mixed This grid can be considered as similar to existing grids for instance the CONSORT statement for clinical trials However it gives a rigorous methodology for a critical appraisal of predictive tools and could be extended to all kind of CDSSs It might be a useful tool to extend the evidencebased culture in the field of medical informaticsBesides the three best papers selected for the  Decision  Support section  of  the   edition of the IMIA Yearbook several other works retrieved from the literature review deserve to be cited Some of them deal with the personalization of decisions Laleci   []  propose  a  scientific  and  technical approach to develop personalized care plans that comply with clinical practice guidelines for the management of complex polypathology situations Jafarpour  [] propose a solution to dynamically manage the conflicts that can rise in this type of complex contexts Ben Souissi  [] introduce the use of health  information  technology  involving multiple criteria decision to support the choice between antibiotics alternatives Interestingly other works promote the creation and sharing of operational knowledge bases as exemplified by Hendriks  [] Thus Huibers  [] transform the textual STOPPSTART criteria into unambiguous definitions mapped to  medical  terminologies  Canovas et  al [] formalize EUCAST expert rules as an ontology and production rules to detect antimicrobial therapies at risk of failure M¼ller  [] propose an   diagnostic knowledge base that can compete with commercial ones Replacing humans is another topic of research and Spnig  [] work on two aspects to virtualize a doctor the automatic acquisition of data through sensors and speech recognition and the automation of diagnostic reasoning Rozenblum et al[] propose a machine learning method to generate clinically valid alerts to detect errors in prescriptions Acceptability  of  CDSS  is  another  key point Kannan  [] propose a method for a CDSS design to best meet a precisely specified and assessable user purpose Design alerts  may  also  avoid  rejection  of  CDSSs by caregivers Fernandes  [] created algorithms able to aggregate filter and reduce the notifications delivered to healthcare professionals Amrose et  al [] tried to understand in real life the impact of alerts on users and to find the actions they triggered Finally it is always interesting to obtain varied evaluation results of controversial CDSSs In this respect Kim  [] evaluated Watson for Oncology in thyroid carcinoma and reported a concordance rate with local practices considered as too low to adopt the tool As  evidenced  by  the  number  and  the variety of works around decision support research in the field is very active This year\\x99s selection highlighted pragmatic works that promote the transparency and sharing of the IMIA Yearbook of Medical Informatics 2020Duclos  0cTable     Best paper selection of s for the IMIA Yearbook of Medical Informatics  in the section \\'Decision Support\\' The s are listed in alphabetical order of the first author\\x99s surname Section Decision Support\\\\uf0a7  Hendriks MP Verbeek XAAM van Vegchel T van der Sangen MJC Strobbe LJA Merkus JWS Zonderland HM Smorenburg CH Jager A Siesling S Transformation of the National Breast Cancer Guideline Into DataDriven Clinical Decision Trees JCO Clin Cancer Inform \\\\uf0a7\\\\t KamiÅ¡aliÄ\\x87\\\\tA\\\\tRia±o\\\\tD\\\\tKert\\\\tS\\\\tWelzer\\\\tT\\\\tNemec\\\\tZlatolas\\\\tL\\\\tMultilevel\\\\tmedical\\\\tknowledge\\\\tformalization\\\\tto\\\\tsupport\\\\tmedical\\\\tpractice for chronic diseases Data  Knowledge Engineering \\x93\\\\uf0a7  Khalifa M Magrabi F Gallego B Developing a framework for evidencebased grading and assessment of predictive tools for clinical decision support BMC Med Inform Decis Mak  knowledge bases used by decision support tools as well as the grading of their utility The ultimate goal is that users could trust such tools to then use themAcknowledgementWe would like to thank all the present and past editorial boards of the IMIA Yearbook especially Martina Hutter and Adrien Ugon for their support as well as the reviewers for  their  participation  to  the  selection  of the  best  papers  for  the  Decision  Support section We cannot end this synopsis without a meaningful thought for our colleague and friend Vassilis  Koutkias  who  started  this year again to tackle the tasks of a Decision Support section coeditor but passed away in last December and unfortunately could not finishReferences  Jankovic I Chen JH Clinical Decision Support and Implications for the Clinician Burnout Crisis  Yearb Med Inform   Koutkias V Bouaud J Contributions on Clinical Decision Support from the  Literature Yearb Med Inform  Aug2811357  Hendriks MP Verbeek XAAM van Vegchel T van der Sangen MJC Strobbe LJA Merkus JWS  Transformation of the National Breast Cancer Guideline  Into  DataDriven  Clinical  Decision Trees JCO Clin Cancer Inform   KamiÅ¡aliÄ\\x87 A Ria±o D Kert S Welzer T Nemec Zlatolas  L  Multilevel  medical  knowledge formalization  to  support  medical  practice  for chronic diseases Data  Knowledge Engineering \\x93  Khalifa  M  Magrabi  F  Gallego  B  Developing a  framework  for  evidencebased  grading  and assessment  of  predictive  tools  for  clinical  decision  support  BMC  Med  Inform  Decis  Mak    Laleci  GB Yuksel  M  Sarigul  B Arvanitis TN Lindman P Chen R  A Collaborative Platform for Management of Chronic Diseases via GuidelineDriven  Individualized  Care  Plans  Comput Struct Biotechnol J \\x93   Jafarpour  B  Raza Abidi  S Van  Woensel  W Raza Abidi  SS  Executiontime  integration  of clinical  practice  guidelines  to  provide  decision support for comorbid conditions Artif Intell Med   Ben Souissi S Abed M El Hiki L Fortemps P Pirlot  M  PARS  a  system  combining  semantic technologies with multiple criteria decision aiding for supporting antibiotic prescriptions J Biomed Inform   Huibers  CJA  Sallevelt  BTGM  de  Groot  DA Boer MJ van Campen JPCM Davids CJ  Conversion  of  STOPPSTART  version    into coded algorithms for software implementation A multidisciplinary consensus procedure Int J Med Inform  C¡novasSegura B Morales A Juarez JM Campos M Palacios F Impact of expert knowledge on the detection of patients at risk of antimicrobial therapy failure by clinical decision support systems J Biomed Inform  M¼ller L Gangadharaiah R Klein SC Perry J Bernstein G Nurkse D  An   access medical knowledge base for community driven diagnostic decision support system development BMC Med Inform Decis Mak  Spnig  S  EmbergerKlein A  Sowa  JP  Canbay A Menrad K Heider D The virtual doctor An interactive clinicaldecisionsupport system based on deep learning for noninvasive prediction of diabetes Artif Intell Med  Rozenblum R RodriguezMonguio R Volk LA Forsythe KJ Myers S McGurrin M  Using a Machine Learning System to Identify and Prevent Medication Prescribing Errors A Clinical and Cost Analysis Evaluation Jt Comm J Qual Patient Saf   Kannan V  Basit  MA  Bajaj  P  Carrington AR Donahue IB Flahaven EL  User stories as lightweight requirements for agile clinical decision support development J Am Med Inform Assoc  Fernandes CO Miles S Lucena CJP Cowan D Artificial  Intelligence Technologies  for  Coping with Alarm  Fatigue  in  Hospital  Environments Because  of  Sensory  Overload Algorithm  Development  and Validation  J  Med  Internet  Res 20192111e15406 Amroze A  Field TS  Fouayzi  H  Sundaresan D  Burns  L  Garber  L  et  al  Use  of  Electronic Health Record Access and Audit Logs to Identify Physician Actions Following Noninterruptive Alert  ing Descriptive Study JMIR Med Inform 201971e12650 Kim M Kim BH Kim JM Kim EH Kim K Pak K  Concordance in postsurgical radioactive iodine therapy recommendations between Watson for  Oncology  and  clinical  practice  in  patients with  differentiated  thyroid  carcinoma Cancer Correspondence toPr Catherine DuclosLIMICS INSERM Facult© L©onard de Vinci rue Marcel Cachin  Bobigny FranceEmail catherineduclosaphpfr IMIA Yearbook of Medical Informatics 2020Pragmatic Considerations on Clinical Decision Support from the  Literature 0cAppendix Content Summaries of Best Papers for the Decision Support Section of the  IMIA YearbookHendriks MP Verbeek XAAM van Vegchel T van der Sangen MJC Strobbe LJA Merkus JWS Zonderland HM Smorenburg CH Jager A Siesling STransformation of the National Breast Cancer Guideline into datadriven clinical decision treesJCO Clin Cancer Inform  May3114Since  clinical  practice  guidelines  are  still narrative and described in large textual documents the aim of this work was to model complex guidelines as datadriven clinical decision trees CDTs that could be still humaninterpretable while computerinterpretable for implementation in decision support systems The Dutch national breast cancer guidelines were translated into CDTs Data items  which  characterize  the  patient  and the tumor and represent decisional criteria were encoded unambiguously using existing classifications and coding systems related to breast cancer when feasible In total  CDTs  were  necessary  to  cover  the  whole guidelines driven by  data items Of all data items   could be coded using existing classification and coding systems All  CDTs represented  unique patient subpopulations Complex guidelines could be transformed as systematically constructed modular datadriven CDTs that are clinically interpretable and executable in a decision support applicationKamiÅ¡aliÄ\\x87 A Ria±o D Kert S Welzer T Nemec Zlatolas LMultilevel medical knowledge formalization to support medical practice for chronic diseasesData  Knowledge Engineering  \\x93This research is focused on knowledge representation to support the medical processes involved in chronic diseases management which can be viewed as a procedural and sequential  application  of  knowledge An intuitive easy and effective mechanism for medical  knowledge  formalization  is  proposed through a formalism called extended Timed Transition  Diagram  eTTD This formalism allows for the consistent representation of three basic levels of decision making that should be taken into account in the prescription and adaptation of longterm treatment therapy strategy dosage and intolerances The methodology can be manually applied to build eTTDs from clinical practice guidelines eTTDs implementation is demonstrated by modeling clinical practice guidelines for the therapeutic management of arterial hypertension The obtained models can be used as a baseline framework for the development of decision support systems involving medical proceduresKhalifa M Magrabi F Gallego BDeveloping a framework for evidencebased grading and assessment of predictive tools for clinical decision supportBMC Med Inform Decis Mak  Oct Deciding to choose a clinical predictive tool in clinical practice should be guided by its correctly assessed effectiveness The objective of this work is to developp a conceptual and practical framework to Grade and Assess Predictive tools GRASP and provide clinicians with a standardised evidencebased system to support their search for and selection of efficient predictive tools The GRASP framework grades predictive tools based on published evidence across three dimensions phase of evaluation level of evidence and direction of evidence The final grade of the tool is based on the phase of evaluation that gets  the  hightest  grade  supported  by  the highest level of positive or mixed evidence that  supports  a  positive   This framework was successfully applied to five predictive  tools  GRASP  report  updates could be a way to maintain a data base that documents the evidence of predictive tools IMIA Yearbook of Medical Informatics 2020Duclos  0c\"'"
      ]
     },
     "execution_count": 12,
     "metadata": {},
     "output_type": "execute_result"
    }
   ],
   "source": [
    "target_texts = df[df['Target']=='Thyroid_Cancer']['Text']\n",
    "target_texts.values[1]"
   ]
  },
  {
   "cell_type": "code",
   "execution_count": 13,
   "id": "84d76781",
   "metadata": {},
   "outputs": [
    {
     "data": {
      "text/plain": [
       "'\"inhibitors by causing immediate and nearly complete intracellular and extracellular thiamine deprivation [6]. In previous studies we have shown that thiaminase has both in vitro and in vivo cytotoxicity activity further supporting the concept that TDEs could represent new targets for novel therapies [6] [7] [8]. We have also previously reported that rapamycin has antagonistic effect on thiaminase-mediated growth inhibition of leukemia cells [7] a surprising finding since rapamycin generally acts as a sensitizing agent in combination with cytotoxic drugs. We now present metabolic and metabolomic observations regarding the anticancer activities and metabolic effects of thiaminase in leukemia and breast cancer cells. We chose to focus on breast and leukemia models because these were the models in which we observed the most promising activity of thiaminase in xenografts. These studies help define thiaminase metabolic effects that may be responsible for its cytotoxic activity. These studies also further elucidate the role of mTOR as an inhibitor of thiaminase-mediated alterations in cellular metabolism and demonstrate the role of mTOR in regulating expression of enzymes involved in thiamine-dependent metabolism. Methods Ethics statement All animal studies were approved by the University of Kentucky Institutional Animal Care and Use Committee. Cell Lines The human breast cancer cell line MCF-7 and the non-malignant breast cell line MCF-10A were obtained from ATCC; human leukemia cell lines Reh and RS4 were originally obtained from ATCC and generously provided by Dr. Terzah Horton Baylor College of Medicine. Cell line authentication was performed by PCR amplification of nine short tandem repeat (STR) loci (Research Animal Diagnostic Laboratory St. Louis MO) and comparing the profile to the ATCC STR database. The STR profile of MCF-7 and RS4 cell lines were identical to the ATCC profile. The Reh cell line matched all alleles in the ATCC Reh profile plus one extra allele at two loci. Cytotoxicity assays Human leukemia cell lines Reh or RS4 were plated in triplicate in 96-well microtiter plates in RPMI-1640 (with 25 mM HEPES) medium containing 10% fetal bovine serum at final densities of 8\\x97104 cells/well. MCF-7 cells were plated in the same medium at the final density of 1000cells/well. Medium containing native thiaminase at a concentration range of 1\\x9710?6 to 4 units/ml was added to cells and incubated for four days. Following incubation an MTT Cell Proliferation Assay (ATCC) was performed according to the ATCC protocol. The IC50 was calculated from the dose response curve as the concentration of drug producing a 50% decrease in the mean absorbance compared to the untreated wells using Prism GraphPad software. The cytotoxicity experiments were repeated a minimum of three times in triplicate. Analysis of primary human ALL specimens was performed by plating cells at a density of 1\\x97106/ml and treating for 24 hours with the indicated concentration of thiaminase. Viability was evaluated by dead cell exclusion labeling with trypan blue dye as well as flow cytometric analyses using Annexin-V labeling as previously described [9]. Xenograft studies RS4 tumor xenografts were established by subcutaneously inoculating 1\\x97107 cells into the right flank of five-week-old female Crl:NU-Foxn1 nude mice (Charles River Laboratories Wilmington MA). For the establishment of MCF-7 xenograft a 17?-estradiol pellet (0.72 mg 60 days release; Innovative Research of America Sarasota FL) was implanted subcutaneously into the neck to facilitate optimal tumor growth for the estrogen receptor\\x93positive MCF-7 cells. The xenografts were initiated by subcutaneously injecting 5\\x97106 MCF-7 cells into the right flank of five-week-old female Crl:NU-Foxn1 nude mice. When palpable tumors had formed mice were treated with native thiaminase at its MTD (2000 units/kg body weight) twice a week at a site distant from the formed tumor for three weeks. Mice were treated with a single dose of thiaminase enzyme conjugated with 1k linear chain PEG (1K-LCPTE) at its MTD (50 U/kg) at a site distant from the formed tumor. Mice treated with N3-pyridyl thiamine (N3PT) received an intraperitoneal (i.p.) dosage of 80 mg/kg daily for five days. Mice treated with both 1K-LCPTE and N3PT received a single dose of 1K-LCPTE at 50 U/kg first then after 5five days mice received N3PT at 80 mg/kg daily for five days. Tumors were measured twice a week in a blinded manner by measuring perpendicular diameters with a digital caliper and tumor volumes (mm3) were calculated using the following formula: volume ?=? width \\x97 width \\x97 length \\x97 ?/6. The predetermined endpoint was a tumor volume of 1500 mm3. The control mice were injected with MCF-7 or RS4 cells and left untreated and results combined with a previous control group of the same xenograft [7]. Kaplan-Meier survival curves and statistical analysis was performed with GraphPad Prism software. Primary lymphoblastic leukemia xenograft methods A primary lymphoblastic leukemia specimen was transplanted by IV injection into sub-lethally irradiated immune deficient NOD/SCID/IL2Rg mice. When the tumor burden was established in the bone marrow (day 17) animals received treatment with thiaminase 2000 units/kg on days 17 20 and 24 administered by subcutaneous injection (the longer interval between treatments in these mice in comparison to the Crl:NU-Foxn1 nude mice was due to tolerability). The animals were sacrificed on day 33 and marrow cells were isolated and examined by flow cytometry using human-specific antibodies for CD45 and CD19 to determine the level of human leukemia cell engraftment as previously described [9]. Mitochondrial bioenergetics measurements Oxygen consumption was determined using the Seahorse Extracellular Flux (XF-96) analyzer (Seahorse Bioscience Chicopee MA). The XF-96 measures the concentration of oxygen and free protons in the medium above a monolayer of cells in real-time. Thus the rates of oxygen consumption and proton production can be measured across several samples at a time. To allow comparison between experiments data are presented as oxygen consumption rate (OCR) in pMoles/min/104 cells and the extracellular acidification rate (ECAR) in mpH/min/104 cells. RS4 and Reh leukemia cells were seeded at 125000 cells/well into gelatin-coated Seahorse Bioscience XF microplates cultured in the presence or absence of 2 g/L D-glucose and then centrifuged to adhere to the bottom of the wells while for the MCF-7 and MCF-10A about 45000 cells were plated and allowed to adhere overnight. OCR was measured four times and plotted as a function of cells under the basal condition followed by the sequential addition of oligomycin (1 µg/ml) FCCP (1 µM) and rotonone (1 µM). The ATP-linked OCR was calculated as the basal OCR minus the OCR measured after the addition of oligomycin. The OCR maximal capacity was the direct rate measured after the addition of FCCP. The reserve capacity is the FCCP OCR minus the basal OCR. For the ECAR measurements cells were washed following overnight incubation and changed to assay media lacking glucose. Basal ECAR were measured four times and plotted as a function of cells under the basal condition followed by the sequential addition of glucose (25 mM) oligomycin (1 µg/ml) and 2-deoxyglucose (25 mM). The rate of glycolysis was determined by subtracting the basal ECAR from the ECAR after the addition of glucose. Glycolytic reserve was determined by subtracting the ECAR following the addition of oligomycin from the ECAR following the addition of glucose. Differences between treatment groups were calculated using the Kruskal Wallis test. Metabolomic studies RS4 leukemia cells and MCF-7 breast cancer cells were analyzed under six conditions: control for 24 hrs (C-24); incubation in thiaminase for 24 hrs (T-24); control for 48 hours (C-48); thiaminase for 48 hrs (T-48); rapamycin for 48 hrs (R-48); and both rapamycin and thiaminase for 48 hrs (R+T-48). Four independent samples were produced for each time point for each cell line and cell pellets were stored at ?80°C until the separate experiments were all completed. Metabolomic studies were performed at Metabolon Inc. (Durham NC). The non-targeted metabolic profiling platform consisted of three independent instrumental methods: ultrahigh performance liquid chromatography/tandem mass spectrometry (UHPLC/MS/MS2) optimized for basic species; UHPLC/MS/MS2 optimized for acidic species; and gas chromatography/mass spectrometry (GC/MS). The detailed process of the platform; including sample processing instrument configuration data acquisition as well as metabolite identification and quantitation were published previously [10] [11]. Three hundred and forty two metabolites were identified by automated comparison of the ion features in the experimental samples to a reference library of chemical standard entries that included retention time molecular weight (m/z) preferred adducts in-source fragments and associated MS spectra [12]. Instrument variability was determined by calculating the median relative standard deviation (RSD) for the internal standards that were added to each sample prior to injection into the mass spectrometers. Overall process variability was determined by calculating the median RSD for all endogenous metabolites (i.e. non-instrument standards) present in 100% of a set of technical replicates of pooled samples. Values for instrument and process variability meet Metabolon\\x99s acceptance criteria with instrument variability of 3% and overall process variability of 12%. Following normalization to total protein (Bradford assay) log transformation and imputation with minimum observed values for each compound Welch\\x99s two-sample t-tests were used to identify biochemicals that differed significantly between experimental groups. The entire metabolomic data sets for RS4 and MCF-7 cells with statistical results are included in data tables (Table S1). Immunoblot analysis Cells were treated with thiaminase (0.001 U/ml) and/or rapamycin (0.1 µM) for 96 hours. Cells were lysed with a triple-detergent lysis buffer (50 mM Tris pH8.0 150 mM NaCl 1% NP-40 0.5% DOC 0.1% SDS 0.02% sodium azide 100 µg/ml PMSF protease inhibitors (Roche) and phosphatase inhibitors (Thermo Scientific)). Equal amounts of protein were loaded into each well and separated by SDS-PAGE gel followed by transfer onto nitrocellulose membranes. The membranes were blocked incubated with the indicated primary antibodies at 4°C overnight and the appropriate horseradish peroxidase\\x93conjugated secondary antibody was added for 1 hour at room temperature. Immunoblots were developed by use of SuperSignal West Pico chemiluminescent substrate (Thermo Scientific) according to the manufacturer\\x99s protocol and analyzed by FujiFilm LAS-4000 luminescent image analyzer (Multigauge software). The primary and secondary antibodies used in this study are listed as follows. Anti- PKM1; anti-BCAT2; anti-TPK1 and anti-THTPA antibodies were purchased from Proteintech Group Inc. (Chicago IL). Anti- PKM2 and anti-CPT1A antibodies were from Cell Signaling Technology (Danvers MA). Anti-BCKDE1 and anti-phospho-BCKDE1 antibodies were obtained from Bethyl laboratories (Montgomery TX). Anti-BCAT1 anti-?-actin and all secondary antibodies were obtained from Sigma-Aldrich (St. Louis MO). Results Evidence of antitumor activity of thiaminase in leukemia and breast cancer tumor models is shown in Figure 1. Figure 1A is a Kaplan-Meier plot of MCF-7 subcutaneous xenografts treated with thiaminase showing a prolongation in the time to endpoint (pre-defined tumor volume) (TTE) from 41 days in the mock treated cohort to 59 days in the treated cohort (p?=?0.03). In Figure 1B RS4 subcutaneous xenografts show an increase in median TTE from 16.5 days from the start of treatment to undefined TTE after 60 days (p<0.001). We have also previously shown evidence of thiaminase activity against MDA231 breast cancer [8]. In Figure 1C the activity of thiaminase is shown against primary human leukemia cells. The most sensitive primary leukemia specimens appear to be lymphoblastic specimens with MLL-gene re-arrangements. This was of interest as the RS4 cell line is also an MLL-rearranged cell line. Figure 1D shows flow cytometric analysis of bone marrow of a primary MLL-rearranged leukemia cell xenograft treated with thiaminase demonstrating a decrease in leukemia cell proportion after treatment. These studies along with previous studies [7] [8] provided the rationale for performing further detailed examination of the metabolic effects of thiaminase in the breast cancer cell line MCF-7 and in the RS4 leukemia cell line. In addition for further points of comparison we included selected studies in two additional cell lines Reh leukemia cells another lymphoblastic leukemia cell line and MCF-10A a non-malignant breast cell line. 10.1371/journal.pone.0085702.g001 Figure 1 In vivo evidence of thiaminase anticancer activity. A. A Kaplan-Meyer plot of time to pre-defined tumor volume endpoint for subcutaneous MCF-7 breast cancer xenografts treated with thiaminase 2000 units SC QOD or buffer control. The median time to endpoint was 41 \"'"
      ]
     },
     "execution_count": 13,
     "metadata": {},
     "output_type": "execute_result"
    }
   ],
   "source": [
    "target_texts = df[df['Target']=='Lung_Cancer']['Text']\n",
    "target_texts.values[1]"
   ]
  },
  {
   "cell_type": "code",
   "execution_count": 14,
   "id": "6312c269",
   "metadata": {},
   "outputs": [
    {
     "data": {
      "text/plain": [
       "'advances  in  technology  hardware  and computing have created new opportunities to improve the quality of cancer care and research  by  leveraging  informatics  innovations  digital  health  machine  learning and precision oncology are key areas where there are noteworthy advances in the field of  cancer  informatics as  the  adoption  of smartphones  and  wearable  technologies increases patientgenerated health data such as physical activity and electronic patientreported outcomes pros are being leveraged for  prevention  and  in  interventions  for remote  monitoring  during  treatment  and survivorship and to predict health outcomes moving beyond cancer clinical trials health systems are increasingly seeking to integrate pros into routine cancer care processes as part of the national cancer institute\\x99s nci cancer moonshot initiative six healthcare systems will systematically integrate pros into clinical workflows and electronic health records  ehrs    additionally  much attention surrounds the hype and challenges  of  the  application  of  machine  learning algorithms in clinical care including for a number  of  oncology  use  cases  however there are concerns around biases and homogeneous training data sets thus machine learning  has  had  limited  implementation into clinical care considerable progress in genomics and computational medicine has ushered in a new era in precision oncology generating vast amounts of data much of which is publicly accessible for example the nci precision medicine initiativeoncology  has  had  recent  success  defining genetically targeted therapies understanding tumor treatment resistance and developing a us cancer knowledge system   while the opportunities within cancer informatics have much potential for positive impact if not applied thoughtfully these innovations risk propagating disparities and inequities operationalizing these informatics discoveries into routine cancer care also continues to present a diverse set of challenges    objectivesgiven the rapid pace of cancer informatics research  our  objective  was  to  conduct  a survey  of  the  literature  for  advancements over the past several years in three key areas of growth  digital health  machine learning and  precision oncology we also highlight the ethical implications challenges and opportunities for each topic   methodsa  literature  search  was  conducted  in  two electronic databases pubmed and google scholar to identify peerreviewed s and conference proceedings search terms included variations of the following neoplasms[mesh] informatics[mesh] cancer oncology clinical cancer informatics medical cancer informatics the search covered the period from october   to october imia yearbook of medical informatics                                    imia and ge thieme verlag kg 0c  and returned too many s for practical review  from pubmed and   from  google  scholar thus  we narrowed the search to key pubmedindexed informatics  s and proceedings such as the   of the american medical informatics association jamia jamia open applied  clinical  informatics     of medical internet research bioinformatics    of  biomedical  informatics  jco clinical  cancer  informatics  and  nature digital  medicine we  also  performed  a manual review of cancer informatics  s that were not yet indexed in pubmed additionally we searched the proceedings of the amia annual symposia and amia informatics summits given  the  sheer  number  of  results  we focused on manuscripts that demonstrated a clear focus on clinical or translational cancer informatics manuscripts were selected based on methodological rigor scientific impact innovation and contributions towards cancer informatics as a field or on impact on cancer care the reviewed manuscripts were grouped into three topics including digital health  machine  learning  and  precision oncology for each topic we describe the current state implications challenges and opportunities   results   digital healthdigital health is the intersection of technologies with health and wellness to enhance communication  and  delivery  of  health services it includes mobile health health information technologies wearable devices telehealth or virtual health and personalized medicine   as health systems transition from traditional officebased care to more continuous  interactions  with  patients  and caregivers emerging technologies are key drivers of the capture of patientgenerated health data   currently it is still challenging to bring together disparate data streams generated by patients from technologies such as  smartphones  social  media  platforms wearable activity trackers and internet of things iot devices such as smart home sensors  however  multiple  studies  have begun to demonstrate the value of employing digital health technologies to improve cancer prevention and care  for example apps and webbased interventions have been used to support exercise   and in digital outreach efforts focused on cancer screening   in a webbased exercise intervention to mitigate the effects of chemotherapy breast cancer patients demonstrated improvements on the sixminute walk test and abdominal back lower body strength compared to the control group over the eightweek study   one study demonstrated that google search and facebook advertisements could be used to promote cancer screening   these advertising campaigns were associated with increased visits to institutional websites  and  scheduled  screening  exams compared  to  the  week  before  and  after the campaign   these studies reveal the potential for digital health apps to engage patients reach broad populations and improve physical activity outcomes in addition to being a vehicle to deliver interventions social media can be used for behavioral  surveillance  several  studies explored  communications  within  patient communities with the most common posts or  tweets  on  the  topics  of  clinical  trials treatment and support   taylor   found evidence of differing levels of emotional informational and social support for patients with lung cancer across platforms ie facebook twitter macmillanuk   which may be due to differences in user characteristics or the nature of selfmoderating communities in terms of engagement cho   examined the relationship between melanomarelated instagram posts and engagement outcomes ie likes comments social support they found that posts about physical consequences decreased the number of \\x9clikes\\x9d but increased comments and perceived emotional support and that the inclusion of images increased the number of comments made about the posts   overall these  highlighted  studies  contribute  to  an understanding of participative engagement and experiences on social media platforms for written and visual cancerrelated content that is usergenerated and suggest that patients may have varied experiences related to social support across platforms and communitiesthere  is  mounting  evidence  that  using pros for cancer care symptom assessments can  improve  survival  quality  of  life  and help  patients  remain  longer  on  treatment when compared to usual care   while there  is  a  wide  range  of  pros  that  could be assessed during cancer treatment and in survivorship several efforts have aimed to identify key domains relevant to improving outcomes  in  cancer  care  for  example  a clinical  advisory  group  identified  priority domains  and  measures  to  enhance  cancer care which included distress and symptoms   and unmet needs   girgis   then  developed  clinical  recommendations from  these  domains  mapped  them  into wellbeing  categories  and  demonstrated that these recommendations could algorithmically provide automated clinical feedback   there is also concern that the use of structured  questionnaires  to  assess  pros may limit the ability to capture the broad range of symptoms experienced by patients during  treatment  chung et  al  examined whether  patiententered  freetext  narratives of symptomatic adverse events could be  mapped  to  established  terminologies from  the  national  cancer  institute  nci patientreported outcomes version of the common terminology criteria for adverse events proctcae   among  patients enrolled in three multicenter cancer trials over half  provided unstructured freetext entries and most of these entries could be mapped post hoc to a proctcae or medical dictionary for regulatory activities meddra term this suggests that mapping to existing terminologies is not only feasible but also provides the opportunity to supplement trialspecific questionnaires to better capture diverse patient experiences during cancer treatmentsuse  of  wearable  activity  trackers  and other  iot  sensors  to  capture  additional patientgenerated health data is expanding several feasibility studies have had favorable results although sample size was generally small     studies  noted  that  higher daily steps recorded from activity trackers were correlated with pros such as increased performance status   lower distress [ ] fatigue   depressive symptoms [ ]  adverse  events  hospitalizations  and death   despite high dropoff rates for imia yearbook of medical informatics 2020griffin   0cnetwork to classify topics within an online health community focused on breast cancer and found that patients with different cancer stages have different topics of conversations    lee  et  al  assessed  conversations about living with cancer among sexual minority women using latent dirichl location which revealed that the most common topic was about coping and connecting to others with shared gender identities   utilizing  nlp  techniques  to  analyze  and understand  topics  in  online  communities could  help  to  optimize  interventions  and deliver valuable supportrecognizing  the  ongoing  challenges with  concept  extraction  and  the  scarcity of  annotated  datasets  researchers  have employed  open  science  efforts  to  foster interdisciplinary  collaborations  in  several areas  for  example temporal  history  of your  medical  events  thyme  corpora [ ] informatics for integrating biology  the bedside i2b2 challenge sets   and medical information mart of intensive care mimiciii   contain collections of  deidentified  clinical  text  for  research dream challenges have also hosted several cancerfocused competitions that yielded a  number  of  r  packages  and  established benchmarks for prognostic models [ ]in  medical  imaging  ml  has  been deployed  for  early  detection  improved diagnosis and better prognostic accuracy ardila   used lowdose chest computed tomography images to perform endtoend lung cancer screening with high accuracy   similarly predictive models to calculate breast cancer risk from mammograms demonstrated improved risk discrimination over current clinical standards   in dermatology  several  deep  learning  methods were found to be superior to dermatologists in  diagnosing  and  detecting  skin  cancers [ ] wei   also found employing deep learning approaches to classify lung pathology  images  yielded  more  accurate results when compared to pathologists   additionally advancements have been made in  mlbased  cds  tools  for  classification of skin lesions estimates of colon cancer outcomes based on various therapies and management of uterine cervical abnormalities   given the lack of large imaging datasets for  training  models  investigators have  also  focused  on  producing realistic synthetic data [ ] research by senaras   revealed that generative adversarial networks are a promising technique to generate labeled synthetic immunohistochemical stained breast tissue  for  precision  cancer  care  genomics tools have also demonstrated the potential to advance the discovery of novel targeted cancer  therapies  deepmind\\x99s alphafold tool has shown promise in predicting protein  structure  from  its  genetic  sequence   crisprcas9 screens have also facilitated tremendous progress in identifying essential genes across cancer cell lines   several studies have used ml to identify cancer subtypes using gene expression data   and pathological images   for example coudray   established that ml algorithms could predict six of the most commonly mutated genes within adenocarcinoma lung cancer   ml could also be used to assist pathologists in detecting gene mutations or cancer subtypes given the variety of data sources necessary to compare personalized cancer care pathways incorporating genetic clinical imaging cost and quality of life data into multifaceted cds tools could aid in reducing the cognitive load of clinicians     precision oncologyprecision  medicine  is  an  evolving  set  of diagnostic and treatment paradigms which seeks to optimize and tailor safe and effective care for patients based on their individual characteristics precision medicine has been advanced considerably by cancer genomics  increasingly  discoveries  using genomic  technologies  that  have  fueled translational research are impacting clinical settings     single  cell  level  assays are proving transformational in the understanding  of  tumor  heterogeneity  disease biology and treatment resistance and will likely play an increasingly important role in clinical research and precision medicine applications  several  studies  have  demonstrated  the feasibility  of  large  cohorts  prospectively assayed  using  genomic  technologies  with turnaround  times  short  enough  to  impact wear time for activity trackers [ ] this research  highlights  that  wearable  devices could  provide  accurate  assessments  of performance status and physical function to inform treatment selection and could serve as a viable proxy for pros   machine learningrecent advancements in machine learning ml reveal opportunities for ml to transform cancer care the field has seen progress in early detection of cancers and improved diagnostic accuracy personalized therapeutics and clinical workflows   in the last two years the field has also experienced substantial  growth  in  fda  approvals  for algorithms including oncology applications for the detection of suspicious lesions and clinical decision support cds  recent reviews have highlighted a number  of  promising  mlbased  knowledge extractions from unstructured and semistructured oncology data from ehrs social media platforms and online health communities [ ] using ehr clinical documents savova   created a natural language processing nlp system deepphe to generate cancer phenotypes   which could help reduce time  spent  reviewing  clinical  documents guan   used nlp techniques to extract genomic sequencing information from clinical progress notes and then classified the notes on whether sequencing led to a treatment change   qiu   also leveraged nlp to extract the primary site of tumor origin from pathology  reports     given  that  cancer stage and origin are rarely captured in structured format within ehrs many of the recent approaches have focused on nlp to extract these data however seneviratne   used the observational medical outcomes partnership omop common data model   to create a feature vector framework to classify patients with prostate cancer by stage using structured ehr data   this approach may be more generalizable than nlp methods since clinical notes vary widely in content depending on the type and author   there have also been a number of studies that apply nlp to online health community and social media datasets [  ] zhang   used a convolutional neural imia yearbook of medical informatics 2020from patient engagement to precision oncology leveraging informatics to advance cancer care  0cclinical decisions [ ] for example in an institutional precision oncology initiative at memorial sloan kettering cancer center mskccimpact approximately  patients sequenced at a rate of more than  patients per month underwent paired tumor and germline dna sequencing of a panel of approximately  known cancer genes   turnaround time to final report was less than  days on average most  of the somatic variants were not present in the large public database of somatic variants called the catalogue of somatic mutations in cancer cosmic     at  the  time  of  the  study suggesting a gap between finding a variant and interpreting its relevance to a patient\\x99s clinical context as with other similar studies researchers relied on publicly available data resources such as my cancer genome   oncokb   clinical interpretation of variants in cancer civic   hemonc     and  communitybased  resources    to  facilitate  interpretation  of  results the clinical impact of largescale precision oncology sequencing efforts suggest mixed results an  overview  suggests  that  only a  minority  of  sequenced  patients have  at least one actionable molecular finding   specifically only  and  of patients respectively from the ncimatch approximately  patients and the mskccimpact trials received targeted therapies [ ] increasing the number and effectiveness of available therapeutics remains a central challenge to broadening the impact of genomic precision medicine   however it will also be critical to identify treatments that may yield low therapeutic benefitbiomarker definition is another growth area in precision oncology precision immunooncologics a class of relatively new therapeutics have shown remarkable efficacy for some  cancers  several  defined  prognostic and predictive indices suggest which patients are most likely to benefit from for example immune checkpoint inhibitors [ ] for chimeric antigen receptor tcell cart therapy there are over  trials targeting at least  different biomarkers in multiple cancer types   public health projects are also beginning to adopt strategies to capitalize on biomarkers and genomic information to enhance precision medicine applications for instance the us centers for disease control  and  prevention  maintains  the public health genomics knowledge base phgkb  which  includes  cancerspecific resources to \\x9cprovide systematically curated and updated information that bridges populationbased  research  on  genomics  with clinical and public health applications  \\x9d the nci has also created an online resource that announces and coordinates \\x9cprecision cancer  surveillance\\x9d  efforts  including  the addition of patientlevel genomic linkages into cancer registries     discussioninnovations in cancer informatics are abundant in the areas of digital health machine learning and precision oncology and have great  potential  in  improving  cancer  care while  there  are  considerable  challenges there are also many opportunities for future research to advance cancer informatics as a field   opportunities and implications for digital health in cancer caregiven  the  ubiquitous  adoption  of  smartphones and growing ownership of wearable and iot devices digital health technologies have the unique capability to gather longitudinal data outside of clinical settings that could yield deeper insights into a patient\\x99s symptom experience or help identify modifiable risk factors for cancer interoperability standards and numerous us initiatives such as the 21st century cures act and the promoting interoperability program formerly named the meaningful use program are transforming  the  way  individuals  access medical services and manage their health thereby accelerating the meaningful application of digital health technologiesthe evidence base for digital health in cancer  care  is  currently  limited  by  small sample size short study duration and limited focus on digital accessibility underserved or underrepresented populations or the needs and psychosocial outcomes of caregivers of patients with cancer patients with cognitive or physical disabilities may not be able to use some technologies and different modalities are needed to reach patients based on their abilities preferences cultural norms level of  training  and  lived  environment    caregivers may be an important bridge to reach  patients  who  have  technical  physical or cognitive limitations but this is an understudied area many studies specifically exclude participants based on nonownership of  a  smartphone  lack  of  internet  access severity  of  medical  conditions  being  on chemotherapy treatment or a recurrence of cancer yet these populations may be those who  could  benefit  the  most  from  digital health technologies and interventions as companies are increasingly engaged in acquiring and sharing individuals\\x99 healthrelated  information  there  are  noteworthy concerns about data privacy security and the ethical use of digital health data given the growing number of partnerships between health systems pharmaceutical companies insurers and technology companies and the increased access by third parties to cloudbased patient data and associated analytical tools  there  is  growing  unease  about  data linkages  and  the  potential  for  misuse  and data breaches for example google recently sparked  a  federal  investigation  following their partnership with ascension   due to  concerns  for  sharing  protected  health information  and  a  department  of  justice inquiry over their acquisition agreement for fitbit   apple has several partnerships with insurers and pharmaceutical companies such as aetna   and eli lilly   and fitbit has partnerships with bristolmyers squibbpfizer alliance     and  humana    recently  it  was  revealed  that  the uk\\x99s  national  health  service  has  given amazon free use of all health data under an alexa advice deal   consumers may be unaware or inadequately informed about how their data are being used and by whom   suggesting the need for greater transparency of  privacy  and  data  sharing  practices  and policies to be consumable at the patient level although  the  fda  regulates  some  digital health  apps  or  technologies  the  majority of apps available in the marketplace are not validated through rigorous research additionally it remains challenging for patients and caregivers to determine which apps are trustworthy effective and usefulimia yearbook of medical informatics 2020griffin   0c   opportunities and implications for ml in cancer caremachine learning research has had meaningful advances in cancer prevention diagnostics and prediction this progress has been driven by increased availability of data and scalable computing infrastructures cloudbased platforms such as microsoft azure databricks     google  cloud automl   and amazon web services sagemaker   have simplified building training and deploying models though developers should be cognizant of the computational and environmental costs associated with cloudbased platforms   realtime nlp and ml innovations within ehr systems are also being explored  by  companies  like  nuance  and epic which could lead to better capture of tumor staging information as structured data elements through ambient computing  despite the promise of ml to improve cancer care there are substantial challenges  that  must  be  addressed  before  ml  is implemented into routine cancer care for instance  women missed screening mammograms in the uk due to algorithm failure   the ibm watson for oncology project highlighted a number of issues in the ml and oncology communities related to lack of validation and benchmarking data quality  and  subjectivity  in  interpretation of results   data quality and availability challenges in healthcare are an acknowledged barrier to research particularly the paucity of  data  for  underrepresented  populations   this may lead to biases since training data does not reflect the attributes of these populations yet may be applied in clinical care there are also growing concerns about the  \\x9cdeskilling\\x9d  of  physicians  that  could occur when some or all of the tasks become automated such as a drop in a clinician\\x99s diagnostic  accuracy    this  has  future implications for graduate medical education and how curricula may require transformation to address these emerging issuesgiven  the  large  volume  and  diversity of  training  data  needed  for  ml  research federated  learning  approaches  which  do not require direct data sharing have strong potential but remain difficult to implement due  to  privacy  preservation  challenges   furthermore the \\x9cblack box\\x9d nature of many algorithms renders interpretation and benchmarking performance difficult to improve algorithm transparency price   proposed a threestep framework for validating \\x9cblack box\\x9d algorithms which involves  having high quality training data and development procedures  testing algorithm performance against independent test data and  evaluating performance continuously   even with benchmarking appropriate selection of realistic and biascontrolled test cases may still be an issue the \\x9cintrinsic uncertainty\\x9d in medicine introduces variations in  results  interpretation     which  also suggests  that  model  performance  criteria should be use case specific rather than based on standard scoring metrics  in the era of deepfake ethical issues are inevitable  if  there  are  no  appropriate  regulatory frameworks for the deployment of ml algorithms health disparities could be widened due to lack of representative training data and the possible consequences from algorithm failures limit the current utility of implementing ml algorithms in realworld cancer care settings governance and policies for deployment audits of performance and implementation of best practices will be critical for safe implementation but these are not yet widely used within health systems to mitigate some of the challenges facing the field of ml several anizations have proposed ethical and regulatory frameworks the fda has proposed policies for ensuring safe and effective use of mlbased software for medical purposes including regulatory frameworks for software as a medical device   for cds   as well as a precertification program   in realworld deployment into clinical care it is critical to have rigorous change protocols for algorithm modifications to ensure safety and to provide transparency to users during updates of algorithms   however these may not be routinely implemented while  mlbased  cds  tools  can assist in automated detection classification or reporting safeguards are essential to proactively mitigate errors that may arise from these complex systems professional societies such as the american college of radiology along with several other us and international radiology  anizations  have  released  an exemplar consensus and guidance document on  the  importance  of developing  ethical standards for ml   toolkits such as the american college of radiology\\x99s ailab framework that promote a vendorneutral approach  to  develop  algorithms  based  on patient populations   may also allow for extensibility of algorithms    opportunities and implications for precision oncology precision  medicine  utilizes  characteristics of individual patients but relies on populations of patients to actually guide treatment decisions even when highquality data are available experts may disagree about interpretation and actionability applied within a clinical setting   perhaps more problematic is the bias that can arise when extrapolating findings to ethnic racial or age groups not  wellrepresented  in  research  cohorts [  ]  despite  the  growing  application of genomic testing in research and precision oncology use cases are still limited by lack of  availability  of  codified  data  elements from molecular testing on tumor samples germline dna and serum biomarkers even for healthcare systems with advanced ehrs and cancer research efforts  currently  there  are  numerous  opensource  cancer  genomics  tools  and  ml training platforms that have the potential to accelerate cancer informatics research such as oncosim oncowiki and google collaboratory [ ] the nci informatics technology for cancer research program has a number of openaccess tools that support the analysis of genomic imaging and clinical data   yet despite the momentum in precision oncology discoveries and actionability of results their application to the context of the treatment selection for individual patients remains an open challenge in accelerating the implementation of precision oncology    conclusionsbringing  informatics  innovations  within digital health machine learning and precision oncology into cancer care will require thoughtful approaches to operationalize the collection  and  meaningful  summarization imia yearbook of medical informatics 2020from patient engagement to precision oncology leveraging informatics to advance cancer care  0cof  disparate  data  sources  to  actualize  the promise of cancer informatics moving from patient engagement in collecting and sharing health data with care teams and researchers to  the  delivery  of  precision  cancer  care necessitates leveraging informatics innovations the research highlighted in this survey paper reflects the fastpaced everevolving field and its challenges as we move discoveries into cancer careacknowledgementsashley griffin is supported by nlm training grant 5t15lm01250003 references  simpro study team electronic symptom management implementation of patient reported outcomes in oncology research  available from httpswwwesymcancermoonshot [accessed  nov ]  us national cancer institute nci and the precision medicine initiative  available from httpswwwcancergovresearchareastreatmentpmioncology [accessed  nov ]  us  food  and  drug administration  digital health available  from  httpswwwfdagovmedicaldevicesdigitalhealth [accessed  nov ]  chung ae  jensen  re  basch  em  leveraging emerging technologies and the \\x9cinternet of things\\x9d to improve the quality of cancer care j oncol pract   arizagarcia a lozanolozano m galianocastillo n postigomartin p arroyomorales m cantarerovillanueva i a webbased exercise system ecuidatechemo  to  counter  the  side  effects of chemotherapy in patients with breast cancer randomized controlled trial j med internet res 2019217e14418  jessup dl glover iv m daye d banzi l jones p choy g   implementation of digital awareness strategies to engage patients and providers in a lung cancer screening program retrospective study j med internet res 2018202e52  sedrak ms salgia mm decat bergerot c ashinggiwa k cotta bn adashek jj   examining public communication about kidney cancer on twitter jco clin cancer inform   chen l wang x peng tq nature and diffusion of gynecologic cancerrelated misinformation on social media analysis of tweets j med internet res 20182010e11515  taylor j pagliari c the social dynamics of lung cancer talk on twitter facebook and macmillanuk npj digit med  cho h silver n na k adams d luong kt song c visual cancer communication on social media an examination of content and effects of melanomasucks j med internet res 2018209e10501 basch e deal am dueck ac scher hi kris mg hudis c   overall survival results of a trial assessing patientreported outcomes for symptom monitoring during routine cancer treatment jama  roth aj kornblith ab batelcopel l peabody e scher hi holland jc rapid screening for psychologic distress in men with prostate carcinoma a pilot study cancer  national comprehensive cancer network nccn clinical practice guidelines in oncology distress management available from httpswwwnccnprofessionalsphysician_glsdefaultaspx [accessed  nov ] richardson l jones g a review of the reliability and validity of the edmonton symptom assessment system curr oncol  girgis a durcinoska i koh es ng w arnold a delaney gp   development of health pathways to standardize cancer care pathways informed by patientreported  outcomes  and  clinical  practice guidelines jco clin cancer inform  chung ae  shoenbill  k  mitchell  sa  dueck ac  schrag  d  bruner  dw  et  al  patient  free text reporting of symptomatic adverse events in cancer clinical research using the national cancer institute\\x99s patientreported outcomes version of the  common terminology  criteria  for adverse events proctcae j am med inform assoc  gresham g hendifar ae spiegel b neeman e tuli r rimel bj   wearable activity monitors to assess performance status and predict clinical outcomes in advanced cancer patients npj digit med  gupta a stewart t bhulani n dong y rahimi z crane k   feasibility of wearable physical activity monitors in patients with cancer jco clin cancer inform  chung iy jung m '"
      ]
     },
     "execution_count": 14,
     "metadata": {},
     "output_type": "execute_result"
    }
   ],
   "source": [
    "target_texts = df[df['Target']=='Colon_Cancer']['Text']\n",
    "target_texts.values[1]"
   ]
  },
  {
   "cell_type": "markdown",
   "id": "b4ada0e6",
   "metadata": {},
   "source": [
    "Coming from a non-medical background it is quite difficult to be able to tell a difference between these three articles. This is why in many cases it is useful to delve into datasets like these with an experienced clinician as well, so that we can be assured everything is correctly labeled."
   ]
  },
  {
   "cell_type": "code",
   "execution_count": 15,
   "id": "84c48a2e",
   "metadata": {},
   "outputs": [
    {
     "data": {
      "text/plain": [
       "Thyroid_Cancer    2810\n",
       "Colon_Cancer      2580\n",
       "Lung_Cancer       2180\n",
       "Name: Target, dtype: int64"
      ]
     },
     "execution_count": 15,
     "metadata": {},
     "output_type": "execute_result"
    }
   ],
   "source": [
    "df['Target'].value_counts()"
   ]
  },
  {
   "cell_type": "code",
   "execution_count": 16,
   "id": "5d279621",
   "metadata": {},
   "outputs": [
    {
     "data": {
      "image/png": "[encoded data removed]",
      "text/plain": [
       "<Figure size 640x480 with 1 Axes>"
      ]
     },
     "metadata": {},
     "output_type": "display_data"
    }
   ],
   "source": [
    "plt.pie(df.groupby('Target')['Target'].count(),autopct=\"%.1f%%\",labels=['Colon_Cancer', 'Lung_Cancer', 'Thyroid_Cancer'])\n",
    "plt.show()"
   ]
  },
  {
   "cell_type": "markdown",
   "id": "ffca74ee",
   "metadata": {},
   "source": [
    "We can see above that our three target variables are balanced for the most part, with lung cancer comprising about 8% less of the publications than thyroid cancer."
   ]
  },
  {
   "cell_type": "markdown",
   "id": "f9fb0982",
   "metadata": {},
   "source": [
    "Next we can look at two very important statistics when dealing with NLP problems. Those being average word length for each target class and average word count per publication for each class."
   ]
  },
  {
   "cell_type": "code",
   "execution_count": 17,
   "id": "9dd03425",
   "metadata": {},
   "outputs": [
    {
     "data": {
      "text/plain": [
       "Text(0.5, 0.98, 'Average word length for each type of cancer article')"
      ]
     },
     "execution_count": 17,
     "metadata": {},
     "output_type": "execute_result"
    },
    {
     "data": {
      "image/png": "[encoded data removed]",
      "text/plain": [
       "<Figure size 1000x500 with 3 Axes>"
      ]
     },
     "metadata": {},
     "output_type": "display_data"
    }
   ],
   "source": [
    "fig,(ax1,ax2,ax3)=plt.subplots(1,3,figsize=(10,5))\n",
    "word = df[df['Target']=='Colon_Cancer']['Text'].str.split().apply(lambda x : [len(i) for i in x])\n",
    "sns.histplot(word.map(lambda x: np.mean(x)),ax=ax1,color='darkblue')\n",
    "ax1.set_title('Colon Cancer')\n",
    "word = df[df['Target']=='Lung_Cancer']['Text'].str.split().apply(lambda x : [len(i) for i in x])\n",
    "sns.histplot(word.map(lambda x: np.mean(x)),ax=ax2,color='magenta')\n",
    "ax2.set_title('Lung Cancer')\n",
    "word = df[df['Target']=='Thyroid_Cancer']['Text'].str.split().apply(lambda x : [len(i) for i in x])\n",
    "sns.histplot(word.map(lambda x: np.mean(x)),ax=ax3,color='yellow')\n",
    "ax3.set_title('Thyroid Cancer')\n",
    "fig.suptitle('Average word length for each type of cancer article')"
   ]
  },
  {
   "cell_type": "markdown",
   "id": "0ff84ba7",
   "metadata": {},
   "source": [
    "Based on these plots it is apparent that our average word length is roughly the same for all three types of cancers centered between 5.5 to 6.5 characters. All three plots are roughly symmtric and normally distributed as well. Something to note is there are a few word count outliers for colon cancer. We will leave these outliers in the dataset as they could be useful for model development."
   ]
  },
  {
   "cell_type": "code",
   "execution_count": 18,
   "id": "c91ace71",
   "metadata": {},
   "outputs": [
    {
     "data": {
      "text/plain": [
       "Text(0.5, 0.98, 'Words in an article')"
      ]
     },
     "execution_count": 18,
     "metadata": {},
     "output_type": "execute_result"
    },
    {
     "data": {
      "image/png": "[encoded data removed]",
      "text/plain": [
       "<Figure size 1000x500 with 3 Axes>"
      ]
     },
     "metadata": {},
     "output_type": "display_data"
    }
   ],
   "source": [
    "#Number of words in an article\n",
    "fig,(ax1,ax2,ax3) = plt.subplots(1,3,figsize=(10,5))\n",
    "tweet_len = df[df['Target']=='Colon_Cancer']['Text'].str.split().map(lambda x: len(x))\n",
    "ax1.hist(tweet_len, color='darkblue')\n",
    "ax1.set_title('Colon Cancer')\n",
    "tweet_len = df[df['Target']=='Lung_Cancer']['Text'].str.split().map(lambda x: len(x))\n",
    "ax2.hist(tweet_len,color='purple')\n",
    "ax2.set_title('Lung Cancer')\n",
    "tweet_len = df[df['Target']=='Thyroid_Cancer']['Text'].str.split().map(lambda x: len(x))\n",
    "ax3.hist(tweet_len,color='yellow')\n",
    "ax3.set_title('Thyroid Cancer')\n",
    "fig.suptitle('Words in an article')"
   ]
  },
  {
   "cell_type": "markdown",
   "id": "bfd0ee20",
   "metadata": {},
   "source": [
    "Our words per article for colon cancer and thyroid cancer are distributed roughly the same with a left skewed tail. Both seem to have a majority of words around 4000 per article. For lung cancer we can see that the words per article is far less, with the majority of articles containing only ~1500 words."
   ]
  },
  {
   "cell_type": "markdown",
   "id": "85037ac1",
   "metadata": {},
   "source": [
    "Now that we have visualized a few of the pertinent characteristics of the article types, it is time to clean and preprocess the data so we can properly model it."
   ]
  },
  {
   "cell_type": "markdown",
   "id": "ecde99da",
   "metadata": {},
   "source": [
    "### Data Cleaning and Preprocessing"
   ]
  },
  {
   "cell_type": "markdown",
   "id": "f924931d",
   "metadata": {},
   "source": [
    "We will first employ two standard text cleaning functions using regular expression syntax and then tokenize the text. After this we will take a look at our dataset to see if we need to do any further cleaning."
   ]
  },
  {
   "cell_type": "code",
   "execution_count": 19,
   "id": "cf735a80",
   "metadata": {},
   "outputs": [],
   "source": [
    "import re\n",
    "import nltk.corpus"
   ]
  },
  {
   "cell_type": "code",
   "execution_count": 20,
   "id": "5c554b2a",
   "metadata": {},
   "outputs": [],
   "source": [
    "def clean_text(dataframe, text_col):\n",
    "    '''\n",
    "    A helper function which takes a dataframe \n",
    "    and removes punction and stopwords.\n",
    "    '''\n",
    "    #remove all punctuation\n",
    "    dataframe['no_punct'] = dataframe[text_col].apply(lambda row: re.sub(r'[^\\w\\s]+', '', row))\n",
    "    \n",
    "    #remove numbers \n",
    "    dataframe['no_punct_num'] = dataframe['no_punct'].apply(lambda row: re.sub(r'[0-9]+', '', row))\n",
    "    \n",
    "    #remove stopwords\n",
    "    stop_words = stopwords.words('english')\n",
    "    dataframe['no_stopwords'] = dataframe['no_punct_num'].apply(lambda x: ' '.join([word for word in x.split() if word not in (stop_words)]))\n",
    "    \n",
    "    #remove extra spaces\n",
    "    dataframe['clean_text'] = dataframe['no_stopwords'].apply(lambda x: re.sub(' +', ' ', x))\n",
    "    return "
   ]
  },
  {
   "cell_type": "code",
   "execution_count": 21,
   "id": "f234f9b9",
   "metadata": {},
   "outputs": [],
   "source": [
    "# tokenize text function\n",
    "def tokenize(d):\n",
    "    return word_tokenize(d)"
   ]
  },
  {
   "cell_type": "code",
   "execution_count": 22,
   "id": "d7574b0e",
   "metadata": {},
   "outputs": [],
   "source": [
    "#clean dataframe text column\n",
    "clean_text(df, 'Text')"
   ]
  },
  {
   "cell_type": "code",
   "execution_count": 23,
   "id": "4afa45bc",
   "metadata": {},
   "outputs": [
    {
     "data": {
      "text/html": [
       "<div>\n",
       "<style scoped>\n",
       "    .dataframe tbody tr th:only-of-type {\n",
       "        vertical-align: middle;\n",
       "    }\n",
       "\n",
       "    .dataframe tbody tr th {\n",
       "        vertical-align: top;\n",
       "    }\n",
       "\n",
       "    .dataframe thead th {\n",
       "        text-align: right;\n",
       "    }\n",
       "</style>\n",
       "<table border=\"1\" class=\"dataframe\">\n",
       "  <thead>\n",
       "    <tr style=\"text-align: right;\">\n",
       "      <th></th>\n",
       "      <th>Target</th>\n",
       "      <th>Text</th>\n",
       "      <th>no_punct</th>\n",
       "      <th>no_punct_num</th>\n",
       "      <th>no_stopwords</th>\n",
       "      <th>clean_text</th>\n",
       "    </tr>\n",
       "  </thead>\n",
       "  <tbody>\n",
       "    <tr>\n",
       "      <th>0</th>\n",
       "      <td>Thyroid_Cancer</td>\n",
       "      <td>Thyroid surgery in  children in a single insti...</td>\n",
       "      <td>Thyroid surgery in  children in a single insti...</td>\n",
       "      <td>Thyroid surgery in  children in a single insti...</td>\n",
       "      <td>Thyroid surgery children single institution Os...</td>\n",
       "      <td>Thyroid surgery children single institution Os...</td>\n",
       "    </tr>\n",
       "    <tr>\n",
       "      <th>1</th>\n",
       "      <td>Thyroid_Cancer</td>\n",
       "      <td>\" The adopted strategy was the same as that us...</td>\n",
       "      <td>The adopted strategy was the same as that use...</td>\n",
       "      <td>The adopted strategy was the same as that use...</td>\n",
       "      <td>The adopted strategy used prior years based fo...</td>\n",
       "      <td>The adopted strategy used prior years based fo...</td>\n",
       "    </tr>\n",
       "    <tr>\n",
       "      <th>2</th>\n",
       "      <td>Thyroid_Cancer</td>\n",
       "      <td>coronary arterybypass grafting thrombosis ï¬b...</td>\n",
       "      <td>coronary arterybypass grafting thrombosis ïbri...</td>\n",
       "      <td>coronary arterybypass grafting thrombosis ïbri...</td>\n",
       "      <td>coronary arterybypass grafting thrombosis ïbri...</td>\n",
       "      <td>coronary arterybypass grafting thrombosis ïbri...</td>\n",
       "    </tr>\n",
       "    <tr>\n",
       "      <th>3</th>\n",
       "      <td>Thyroid_Cancer</td>\n",
       "      <td>Solitary plasmacytoma SP of the skull is an u...</td>\n",
       "      <td>Solitary plasmacytoma SP of the skull is an u...</td>\n",
       "      <td>Solitary plasmacytoma SP of the skull is an u...</td>\n",
       "      <td>Solitary plasmacytoma SP skull uncommon clinic...</td>\n",
       "      <td>Solitary plasmacytoma SP skull uncommon clinic...</td>\n",
       "    </tr>\n",
       "    <tr>\n",
       "      <th>4</th>\n",
       "      <td>Thyroid_Cancer</td>\n",
       "      <td>This study aimed to investigate serum matrix ...</td>\n",
       "      <td>This study aimed to investigate serum matrix ...</td>\n",
       "      <td>This study aimed to investigate serum matrix ...</td>\n",
       "      <td>This study aimed investigate serum matrix meta...</td>\n",
       "      <td>This study aimed investigate serum matrix meta...</td>\n",
       "    </tr>\n",
       "  </tbody>\n",
       "</table>\n",
       "</div>"
      ],
      "text/plain": [
       "           Target                                               Text  \\\n",
       "0  Thyroid_Cancer  Thyroid surgery in  children in a single insti...   \n",
       "1  Thyroid_Cancer  \" The adopted strategy was the same as that us...   \n",
       "2  Thyroid_Cancer  coronary arterybypass grafting thrombosis ï¬b...   \n",
       "3  Thyroid_Cancer   Solitary plasmacytoma SP of the skull is an u...   \n",
       "4  Thyroid_Cancer   This study aimed to investigate serum matrix ...   \n",
       "\n",
       "                                            no_punct  \\\n",
       "0  Thyroid surgery in  children in a single insti...   \n",
       "1   The adopted strategy was the same as that use...   \n",
       "2  coronary arterybypass grafting thrombosis ïbri...   \n",
       "3   Solitary plasmacytoma SP of the skull is an u...   \n",
       "4   This study aimed to investigate serum matrix ...   \n",
       "\n",
       "                                        no_punct_num  \\\n",
       "0  Thyroid surgery in  children in a single insti...   \n",
       "1   The adopted strategy was the same as that use...   \n",
       "2  coronary arterybypass grafting thrombosis ïbri...   \n",
       "3   Solitary plasmacytoma SP of the skull is an u...   \n",
       "4   This study aimed to investigate serum matrix ...   \n",
       "\n",
       "                                        no_stopwords  \\\n",
       "0  Thyroid surgery children single institution Os...   \n",
       "1  The adopted strategy used prior years based fo...   \n",
       "2  coronary arterybypass grafting thrombosis ïbri...   \n",
       "3  Solitary plasmacytoma SP skull uncommon clinic...   \n",
       "4  This study aimed investigate serum matrix meta...   \n",
       "\n",
       "                                          clean_text  \n",
       "0  Thyroid surgery children single institution Os...  \n",
       "1  The adopted strategy used prior years based fo...  \n",
       "2  coronary arterybypass grafting thrombosis ïbri...  \n",
       "3  Solitary plasmacytoma SP skull uncommon clinic...  \n",
       "4  This study aimed investigate serum matrix meta...  "
      ]
     },
     "execution_count": 23,
     "metadata": {},
     "output_type": "execute_result"
    }
   ],
   "source": [
    "df.head()"
   ]
  },
  {
   "cell_type": "code",
   "execution_count": 24,
   "id": "762d34be",
   "metadata": {},
   "outputs": [
    {
     "data": {
      "text/plain": [
       "'The adopted strategy used prior years based four exclusive queries return four disjoint citation subsets The first query QPub_plain based plaintext search PubMed titles using keywords The second query QPub_indexed relies PubMed indexing scheme using MeSH terms results made exclusive previous set The third one QWoS_restricted based plaintext search WoS restricted two research areas Medical Informatics Health Care Sciences Services The fourth query QWoS_filtered based plaintext search used WoS filtered nonrelevant research areas eg Archeology Dance Zoology etc two research areas previous query It note two WoS queries select nonPubMedindexed papers supposed caught two PubMed queriesA first review four subsets retrieved citations performed two section editors select candidate best papers Following IMIA Yearbook protocol candidate best papers individually reviewed rated section editors chief editor Decision Support section external reviewers international Medical Informatics community Based reviewers ratings comments Yearbook editorial committee selected best papers year decision support domainIMIA Yearbook Medical Informatics IMIA Ge Thieme Verlag KG cReview Results The literature search performed January A total unique references obtained distributed follows QPub_plain QPub_indexed QWoS_restricted QWoS_filtered yielding subtotals references PubMed WoS Compared previous year global query retrieved papers After first individual screening independently performed section editors based title papers rejected section editors discussed two editors achieve final selection candidate best papers After external review editorial committee finally selected three best papers Table They discussed next section summaries contents available AppendixDiscussion OutlookIn first paper Hendriks propose approach modeling clinical practice guidelines certainly builds already existing approaches systematically conducted order scalable used represent complex guidelines They promote formalism clinical decision trees CDTs clinically interpretable healthcare professionals computerinterpretable thus suitable implementation datadriven CDSSs The disambiguation textual guidelines supported first formal unequivocal specification data items used decision criteria using international coding systems enforce interoperability second representation guideline knowledge CDTs The method applied Dutch breast cancer guidelines Sixty CDTs built involving total data items among could linked standard terminologies The authors report ambiguity certain criteria could subjective multiple definitions The resulting knowledge base implemented decision support application interactively browsed automatically executed By modeling guidelines way work step forward sharing encoded knowledgeIn second paper KamiÅaliÄ tackled issues linked formalization medical processes used managing chronic diseases execution CDSSs They analyzed decisionmaking dimensions therapeutic management chronic diseases like known increase cardiovascular risk identified three basic levels therapy strategy dosage adaptation intolerance management To handle different aspects consistently propose formalism called extended Timed Transition Diagram eTTD With eTTDs illustrate multilevel finegrained modeling required capture contents arterial hypertension management guidelines This detailed demonstration procedural knowledge hypertension management formalized develop CDSS could certainly used medical domainsThe third paper Khalifa presents conceptual practical framework help assess confidence predictive tools GRASP Grade Assess Predictive Tools method look evidence published literature analysis grid It standardizes assessment available literature associated predictive tool grading level proof Three phases evaluation considered implementation tool assess internal external validity ii implementation assess potential effect usability iii implementation assess effectiveness safety In phase level evidence assessed study design A qualitative summarizes direction evidence positive negative mixed This grid considered similar existing grids instance CONSORT statement clinical trials However gives rigorous methodology critical appraisal predictive tools could extended kind CDSSs It might useful tool extend evidencebased culture field medical informaticsBesides three best papers selected Decision Support section edition IMIA Yearbook several works retrieved literature review deserve cited Some deal personalization decisions Laleci propose scientific technical approach develop personalized care plans comply clinical practice guidelines management complex polypathology situations Jafarpour propose solution dynamically manage conflicts rise type complex contexts Ben Souissi introduce use health information technology involving multiple criteria decision support choice antibiotics alternatives Interestingly works promote creation sharing operational knowledge bases exemplified Hendriks Thus Huibers transform textual STOPPSTART criteria unambiguous definitions mapped medical terminologies Canovas et al formalize EUCAST expert rules ontology production rules detect antimicrobial therapies risk failure M¼ller propose diagnostic knowledge base compete commercial ones Replacing humans another topic research Spnig work two aspects virtualize doctor automatic acquisition data sensors speech recognition automation diagnostic reasoning Rozenblum et al propose machine learning method generate clinically valid alerts detect errors prescriptions Acceptability CDSS another key point Kannan propose method CDSS design best meet precisely specified assessable user purpose Design alerts may also avoid rejection CDSSs caregivers Fernandes created algorithms able aggregate filter reduce notifications delivered healthcare professionals Amrose et al tried understand real life impact alerts users find actions triggered Finally always interesting obtain varied evaluation results controversial CDSSs In respect Kim evaluated Watson Oncology thyroid carcinoma reported concordance rate local practices considered low adopt tool As evidenced number variety works around decision support research field active This years selection highlighted pragmatic works promote transparency sharing IMIA Yearbook Medical Informatics Duclos cTable Best paper selection IMIA Yearbook Medical Informatics section Decision Support The listed alphabetical order first authors surname Section Decision Supportufa Hendriks MP Verbeek XAAM van Vegchel T van der Sangen MJC Strobbe LJA Merkus JWS Zonderland HM Smorenburg CH Jager A Siesling S Transformation National Breast Cancer Guideline Into DataDriven Clinical Decision Trees JCO Clin Cancer Inform ufat KamiÅaliÄtAtRiaotDtKerttStWelzertTtNemectZlatolastLtMultileveltmedicaltknowledgetformalizationttotsupporttmedicaltpractice chronic diseases Data Knowledge Engineering ufa Khalifa M Magrabi F Gallego B Developing framework evidencebased grading assessment predictive tools clinical decision support BMC Med Inform Decis Mak knowledge bases used decision support tools well grading utility The ultimate goal users could trust tools use themAcknowledgementWe would like thank present past editorial boards IMIA Yearbook especially Martina Hutter Adrien Ugon support well reviewers participation selection best papers Decision Support section We cannot end synopsis without meaningful thought colleague friend Vassilis Koutkias started year tackle tasks Decision Support section coeditor passed away last December unfortunately could finishReferences Jankovic I Chen JH Clinical Decision Support Implications Clinician Burnout Crisis Yearb Med Inform Koutkias V Bouaud J Contributions Clinical Decision Support Literature Yearb Med Inform Aug Hendriks MP Verbeek XAAM van Vegchel T van der Sangen MJC Strobbe LJA Merkus JWS Transformation National Breast Cancer Guideline Into DataDriven Clinical Decision Trees JCO Clin Cancer Inform KamiÅaliÄ A Riao D Kert S Welzer T Nemec Zlatolas L Multilevel medical knowledge formalization support medical practice chronic diseases Data Knowledge Engineering Khalifa M Magrabi F Gallego B Developing framework evidencebased grading assessment predictive tools clinical decision support BMC Med Inform Decis Mak Laleci GB Yuksel M Sarigul B Arvanitis TN Lindman P Chen R A Collaborative Platform Management Chronic Diseases via GuidelineDriven Individualized Care Plans Comput Struct Biotechnol J Jafarpour B Raza Abidi S Van Woensel W Raza Abidi SS Executiontime integration clinical practice guidelines provide decision support comorbid conditions Artif Intell Med Ben Souissi S Abed M El Hiki L Fortemps P Pirlot M PARS system combining semantic technologies multiple criteria decision aiding supporting antibiotic prescriptions J Biomed Inform Huibers CJA Sallevelt BTGM de Groot DA Boer MJ van Campen JPCM Davids CJ Conversion STOPPSTART version coded algorithms software implementation A multidisciplinary consensus procedure Int J Med Inform CnovasSegura B Morales A Juarez JM Campos M Palacios F Impact expert knowledge detection patients risk antimicrobial therapy failure clinical decision support systems J Biomed Inform M¼ller L Gangadharaiah R Klein SC Perry J Bernstein G Nurkse D An access medical knowledge base community driven diagnostic decision support system development BMC Med Inform Decis Mak Spnig S EmbergerKlein A Sowa JP Canbay A Menrad K Heider D The virtual doctor An interactive clinicaldecisionsupport system based deep learning noninvasive prediction diabetes Artif Intell Med Rozenblum R RodriguezMonguio R Volk LA Forsythe KJ Myers S McGurrin M Using Machine Learning System Identify Prevent Medication Prescribing Errors A Clinical Cost Analysis Evaluation Jt Comm J Qual Patient Saf Kannan V Basit MA Bajaj P Carrington AR Donahue IB Flahaven EL User stories lightweight requirements agile clinical decision support development J Am Med Inform Assoc Fernandes CO Miles S Lucena CJP Cowan D Artificial Intelligence Technologies Coping Alarm Fatigue Hospital Environments Because Sensory Overload Algorithm Development Validation J Med Internet Res e Amroze A Field TS Fouayzi H Sundaresan D Burns L Garber L et al Use Electronic Health Record Access Audit Logs Identify Physician Actions Following Noninterruptive Alert ing Descriptive Study JMIR Med Inform e Kim M Kim BH Kim JM Kim EH Kim K Pak K Concordance postsurgical radioactive iodine therapy recommendations Watson Oncology clinical practice patients differentiated thyroid carcinoma Cancer Correspondence toPr Catherine DuclosLIMICS INSERM Facult Lonard de Vinci rue Marcel Cachin Bobigny FranceEmail catherineduclosaphpfr IMIA Yearbook Medical Informatics Pragmatic Considerations Clinical Decision Support Literature cAppendix Content Summaries Best Papers Decision Support Section IMIA YearbookHendriks MP Verbeek XAAM van Vegchel T van der Sangen MJC Strobbe LJA Merkus JWS Zonderland HM Smorenburg CH Jager A Siesling STransformation National Breast Cancer Guideline datadriven clinical decision treesJCO Clin Cancer Inform MaySince clinical practice guidelines still narrative described large textual documents aim work model complex guidelines datadriven clinical decision trees CDTs could still humaninterpretable computerinterpretable implementation decision support systems The Dutch national breast cancer guidelines translated CDTs Data items characterize patient tumor represent decisional criteria encoded unambiguously using existing classifications coding systems related breast cancer feasible In total CDTs necessary cover whole guidelines driven data items Of data items could coded using existing classification coding systems All CDTs represented unique patient subpopulations Complex guidelines could transformed systematically constructed modular datadriven CDTs clinically interpretable executable decision support applicationKamiÅaliÄ A Riao D Kert S Welzer T Nemec Zlatolas LMultilevel medical knowledge formalization support medical practice chronic diseasesData Knowledge Engineering This research focused knowledge representation support medical processes involved chronic diseases management viewed procedural sequential application knowledge An intuitive easy effective mechanism medical knowledge formalization proposed formalism called extended Timed Transition Diagram eTTD This formalism allows consistent representation three basic levels decision making taken account prescription adaptation longterm treatment therapy strategy dosage intolerances The methodology manually applied build eTTDs clinical practice guidelines eTTDs implementation demonstrated modeling clinical practice guidelines therapeutic management arterial hypertension The obtained models used baseline framework development decision support systems involving medical proceduresKhalifa M Magrabi F Gallego BDeveloping framework evidencebased grading assessment predictive tools clinical decision supportBMC Med Inform Decis Mak Oct Deciding choose clinical predictive tool clinical practice guided correctly assessed effectiveness The objective work developp conceptual practical framework Grade Assess Predictive tools GRASP provide clinicians standardised evidencebased system support search selection efficient predictive tools The GRASP framework grades predictive tools based published evidence across three dimensions phase evaluation level evidence direction evidence The final grade tool based phase evaluation gets hightest grade supported highest level positive mixed evidence supports positive This framework successfully applied five predictive tools GRASP report updates could way maintain data base documents evidence predictive tools IMIA Yearbook Medical Informatics Duclos c'"
      ]
     },
     "execution_count": 24,
     "metadata": {},
     "output_type": "execute_result"
    }
   ],
   "source": [
    "df['clean_text'][1]"
   ]
  },
  {
   "cell_type": "markdown",
   "id": "a9548d74",
   "metadata": {},
   "source": [
    "This looks good, but we need to doublecheck we have no numbers in words and that all characters will be lower case. The reason we want all characters to be lower case is it helps to eliminate the noise we would be putting into the model. In our case here we won't care about proper nouns being upper case."
   ]
  },
  {
   "cell_type": "code",
   "execution_count": 25,
   "id": "f69dc2ee",
   "metadata": {},
   "outputs": [],
   "source": [
    "def lower_text(text):\n",
    "    '''Make text lowercase and removes numbers from words'''\n",
    "    text = text.lower()\n",
    "    text = re.sub('\\w*\\d\\w*', '', text)\n",
    "    return text"
   ]
  },
  {
   "cell_type": "code",
   "execution_count": 26,
   "id": "c310f6d6",
   "metadata": {},
   "outputs": [],
   "source": [
    "df['clean_text'] = df['clean_text'].apply(lambda x: lower_text(x))"
   ]
  },
  {
   "cell_type": "code",
   "execution_count": 27,
   "id": "6084ee93",
   "metadata": {},
   "outputs": [
    {
     "data": {
      "text/html": [
       "<div>\n",
       "<style scoped>\n",
       "    .dataframe tbody tr th:only-of-type {\n",
       "        vertical-align: middle;\n",
       "    }\n",
       "\n",
       "    .dataframe tbody tr th {\n",
       "        vertical-align: top;\n",
       "    }\n",
       "\n",
       "    .dataframe thead th {\n",
       "        text-align: right;\n",
       "    }\n",
       "</style>\n",
       "<table border=\"1\" class=\"dataframe\">\n",
       "  <thead>\n",
       "    <tr style=\"text-align: right;\">\n",
       "      <th></th>\n",
       "      <th>Target</th>\n",
       "      <th>Text</th>\n",
       "      <th>no_punct</th>\n",
       "      <th>no_punct_num</th>\n",
       "      <th>no_stopwords</th>\n",
       "      <th>clean_text</th>\n",
       "    </tr>\n",
       "  </thead>\n",
       "  <tbody>\n",
       "    <tr>\n",
       "      <th>0</th>\n",
       "      <td>Thyroid_Cancer</td>\n",
       "      <td>Thyroid surgery in  children in a single insti...</td>\n",
       "      <td>Thyroid surgery in  children in a single insti...</td>\n",
       "      <td>Thyroid surgery in  children in a single insti...</td>\n",
       "      <td>Thyroid surgery children single institution Os...</td>\n",
       "      <td>thyroid surgery children single institution os...</td>\n",
       "    </tr>\n",
       "    <tr>\n",
       "      <th>1</th>\n",
       "      <td>Thyroid_Cancer</td>\n",
       "      <td>\" The adopted strategy was the same as that us...</td>\n",
       "      <td>The adopted strategy was the same as that use...</td>\n",
       "      <td>The adopted strategy was the same as that use...</td>\n",
       "      <td>The adopted strategy used prior years based fo...</td>\n",
       "      <td>the adopted strategy used prior years based fo...</td>\n",
       "    </tr>\n",
       "    <tr>\n",
       "      <th>2</th>\n",
       "      <td>Thyroid_Cancer</td>\n",
       "      <td>coronary arterybypass grafting thrombosis ï¬b...</td>\n",
       "      <td>coronary arterybypass grafting thrombosis ïbri...</td>\n",
       "      <td>coronary arterybypass grafting thrombosis ïbri...</td>\n",
       "      <td>coronary arterybypass grafting thrombosis ïbri...</td>\n",
       "      <td>coronary arterybypass grafting thrombosis ïbri...</td>\n",
       "    </tr>\n",
       "    <tr>\n",
       "      <th>3</th>\n",
       "      <td>Thyroid_Cancer</td>\n",
       "      <td>Solitary plasmacytoma SP of the skull is an u...</td>\n",
       "      <td>Solitary plasmacytoma SP of the skull is an u...</td>\n",
       "      <td>Solitary plasmacytoma SP of the skull is an u...</td>\n",
       "      <td>Solitary plasmacytoma SP skull uncommon clinic...</td>\n",
       "      <td>solitary plasmacytoma sp skull uncommon clinic...</td>\n",
       "    </tr>\n",
       "    <tr>\n",
       "      <th>4</th>\n",
       "      <td>Thyroid_Cancer</td>\n",
       "      <td>This study aimed to investigate serum matrix ...</td>\n",
       "      <td>This study aimed to investigate serum matrix ...</td>\n",
       "      <td>This study aimed to investigate serum matrix ...</td>\n",
       "      <td>This study aimed investigate serum matrix meta...</td>\n",
       "      <td>this study aimed investigate serum matrix meta...</td>\n",
       "    </tr>\n",
       "  </tbody>\n",
       "</table>\n",
       "</div>"
      ],
      "text/plain": [
       "           Target                                               Text  \\\n",
       "0  Thyroid_Cancer  Thyroid surgery in  children in a single insti...   \n",
       "1  Thyroid_Cancer  \" The adopted strategy was the same as that us...   \n",
       "2  Thyroid_Cancer  coronary arterybypass grafting thrombosis ï¬b...   \n",
       "3  Thyroid_Cancer   Solitary plasmacytoma SP of the skull is an u...   \n",
       "4  Thyroid_Cancer   This study aimed to investigate serum matrix ...   \n",
       "\n",
       "                                            no_punct  \\\n",
       "0  Thyroid surgery in  children in a single insti...   \n",
       "1   The adopted strategy was the same as that use...   \n",
       "2  coronary arterybypass grafting thrombosis ïbri...   \n",
       "3   Solitary plasmacytoma SP of the skull is an u...   \n",
       "4   This study aimed to investigate serum matrix ...   \n",
       "\n",
       "                                        no_punct_num  \\\n",
       "0  Thyroid surgery in  children in a single insti...   \n",
       "1   The adopted strategy was the same as that use...   \n",
       "2  coronary arterybypass grafting thrombosis ïbri...   \n",
       "3   Solitary plasmacytoma SP of the skull is an u...   \n",
       "4   This study aimed to investigate serum matrix ...   \n",
       "\n",
       "                                        no_stopwords  \\\n",
       "0  Thyroid surgery children single institution Os...   \n",
       "1  The adopted strategy used prior years based fo...   \n",
       "2  coronary arterybypass grafting thrombosis ïbri...   \n",
       "3  Solitary plasmacytoma SP skull uncommon clinic...   \n",
       "4  This study aimed investigate serum matrix meta...   \n",
       "\n",
       "                                          clean_text  \n",
       "0  thyroid surgery children single institution os...  \n",
       "1  the adopted strategy used prior years based fo...  \n",
       "2  coronary arterybypass grafting thrombosis ïbri...  \n",
       "3  solitary plasmacytoma sp skull uncommon clinic...  \n",
       "4  this study aimed investigate serum matrix meta...  "
      ]
     },
     "execution_count": 27,
     "metadata": {},
     "output_type": "execute_result"
    }
   ],
   "source": [
    "df.head()"
   ]
  },
  {
   "cell_type": "markdown",
   "id": "025bbaaa",
   "metadata": {},
   "source": [
    "Lastly we will tokenize the text using the tokenize function. In order for a sentence to be understood by a machine, tokenization is performed on the string to break it into individual parts. Breaking a sentence into its parts allows a machine to understand the parts as well as the whole. This will help the program understand each of the words by themselves, as well as how they function in the larger text. This is especially important for larger amounts of text as it allows the machine to count the frequencies of certain words as well as where they frequently appear."
   ]
  },
  {
   "cell_type": "code",
   "execution_count": 29,
   "id": "27d6d2a6",
   "metadata": {},
   "outputs": [
    {
     "data": {
      "text/plain": [
       "0    [thyroid, surgery, children, single, instituti...\n",
       "1    [the, adopted, strategy, used, prior, years, b...\n",
       "2    [coronary, arterybypass, grafting, thrombosis,...\n",
       "3    [solitary, plasmacytoma, sp, skull, uncommon, ...\n",
       "4    [this, study, aimed, investigate, serum, matri...\n",
       "Name: final_text, dtype: object"
      ]
     },
     "execution_count": 29,
     "metadata": {},
     "output_type": "execute_result"
    }
   ],
   "source": [
    "df['final_text']= df.clean_text.apply(tokenize)\n",
    "df.final_text.head()"
   ]
  },
  {
   "cell_type": "code",
   "execution_count": 30,
   "id": "7ff87995",
   "metadata": {},
   "outputs": [
    {
     "data": {
      "text/html": [
       "<div>\n",
       "<style scoped>\n",
       "    .dataframe tbody tr th:only-of-type {\n",
       "        vertical-align: middle;\n",
       "    }\n",
       "\n",
       "    .dataframe tbody tr th {\n",
       "        vertical-align: top;\n",
       "    }\n",
       "\n",
       "    .dataframe thead th {\n",
       "        text-align: right;\n",
       "    }\n",
       "</style>\n",
       "<table border=\"1\" class=\"dataframe\">\n",
       "  <thead>\n",
       "    <tr style=\"text-align: right;\">\n",
       "      <th></th>\n",
       "      <th>Target</th>\n",
       "      <th>Text</th>\n",
       "      <th>no_punct</th>\n",
       "      <th>no_punct_num</th>\n",
       "      <th>no_stopwords</th>\n",
       "      <th>clean_text</th>\n",
       "      <th>final_text</th>\n",
       "    </tr>\n",
       "  </thead>\n",
       "  <tbody>\n",
       "    <tr>\n",
       "      <th>0</th>\n",
       "      <td>Thyroid_Cancer</td>\n",
       "      <td>Thyroid surgery in  children in a single insti...</td>\n",
       "      <td>Thyroid surgery in  children in a single insti...</td>\n",
       "      <td>Thyroid surgery in  children in a single insti...</td>\n",
       "      <td>Thyroid surgery children single institution Os...</td>\n",
       "      <td>thyroid surgery children single institution os...</td>\n",
       "      <td>[thyroid, surgery, children, single, instituti...</td>\n",
       "    </tr>\n",
       "    <tr>\n",
       "      <th>1</th>\n",
       "      <td>Thyroid_Cancer</td>\n",
       "      <td>\" The adopted strategy was the same as that us...</td>\n",
       "      <td>The adopted strategy was the same as that use...</td>\n",
       "      <td>The adopted strategy was the same as that use...</td>\n",
       "      <td>The adopted strategy used prior years based fo...</td>\n",
       "      <td>the adopted strategy used prior years based fo...</td>\n",
       "      <td>[the, adopted, strategy, used, prior, years, b...</td>\n",
       "    </tr>\n",
       "    <tr>\n",
       "      <th>2</th>\n",
       "      <td>Thyroid_Cancer</td>\n",
       "      <td>coronary arterybypass grafting thrombosis ï¬b...</td>\n",
       "      <td>coronary arterybypass grafting thrombosis ïbri...</td>\n",
       "      <td>coronary arterybypass grafting thrombosis ïbri...</td>\n",
       "      <td>coronary arterybypass grafting thrombosis ïbri...</td>\n",
       "      <td>coronary arterybypass grafting thrombosis ïbri...</td>\n",
       "      <td>[coronary, arterybypass, grafting, thrombosis,...</td>\n",
       "    </tr>\n",
       "    <tr>\n",
       "      <th>3</th>\n",
       "      <td>Thyroid_Cancer</td>\n",
       "      <td>Solitary plasmacytoma SP of the skull is an u...</td>\n",
       "      <td>Solitary plasmacytoma SP of the skull is an u...</td>\n",
       "      <td>Solitary plasmacytoma SP of the skull is an u...</td>\n",
       "      <td>Solitary plasmacytoma SP skull uncommon clinic...</td>\n",
       "      <td>solitary plasmacytoma sp skull uncommon clinic...</td>\n",
       "      <td>[solitary, plasmacytoma, sp, skull, uncommon, ...</td>\n",
       "    </tr>\n",
       "    <tr>\n",
       "      <th>4</th>\n",
       "      <td>Thyroid_Cancer</td>\n",
       "      <td>This study aimed to investigate serum matrix ...</td>\n",
       "      <td>This study aimed to investigate serum matrix ...</td>\n",
       "      <td>This study aimed to investigate serum matrix ...</td>\n",
       "      <td>This study aimed investigate serum matrix meta...</td>\n",
       "      <td>this study aimed investigate serum matrix meta...</td>\n",
       "      <td>[this, study, aimed, investigate, serum, matri...</td>\n",
       "    </tr>\n",
       "  </tbody>\n",
       "</table>\n",
       "</div>"
      ],
      "text/plain": [
       "           Target                                               Text  \\\n",
       "0  Thyroid_Cancer  Thyroid surgery in  children in a single insti...   \n",
       "1  Thyroid_Cancer  \" The adopted strategy was the same as that us...   \n",
       "2  Thyroid_Cancer  coronary arterybypass grafting thrombosis ï¬b...   \n",
       "3  Thyroid_Cancer   Solitary plasmacytoma SP of the skull is an u...   \n",
       "4  Thyroid_Cancer   This study aimed to investigate serum matrix ...   \n",
       "\n",
       "                                            no_punct  \\\n",
       "0  Thyroid surgery in  children in a single insti...   \n",
       "1   The adopted strategy was the same as that use...   \n",
       "2  coronary arterybypass grafting thrombosis ïbri...   \n",
       "3   Solitary plasmacytoma SP of the skull is an u...   \n",
       "4   This study aimed to investigate serum matrix ...   \n",
       "\n",
       "                                        no_punct_num  \\\n",
       "0  Thyroid surgery in  children in a single insti...   \n",
       "1   The adopted strategy was the same as that use...   \n",
       "2  coronary arterybypass grafting thrombosis ïbri...   \n",
       "3   Solitary plasmacytoma SP of the skull is an u...   \n",
       "4   This study aimed to investigate serum matrix ...   \n",
       "\n",
       "                                        no_stopwords  \\\n",
       "0  Thyroid surgery children single institution Os...   \n",
       "1  The adopted strategy used prior years based fo...   \n",
       "2  coronary arterybypass grafting thrombosis ïbri...   \n",
       "3  Solitary plasmacytoma SP skull uncommon clinic...   \n",
       "4  This study aimed investigate serum matrix meta...   \n",
       "\n",
       "                                          clean_text  \\\n",
       "0  thyroid surgery children single institution os...   \n",
       "1  the adopted strategy used prior years based fo...   \n",
       "2  coronary arterybypass grafting thrombosis ïbri...   \n",
       "3  solitary plasmacytoma sp skull uncommon clinic...   \n",
       "4  this study aimed investigate serum matrix meta...   \n",
       "\n",
       "                                          final_text  \n",
       "0  [thyroid, surgery, children, single, instituti...  \n",
       "1  [the, adopted, strategy, used, prior, years, b...  \n",
       "2  [coronary, arterybypass, grafting, thrombosis,...  \n",
       "3  [solitary, plasmacytoma, sp, skull, uncommon, ...  \n",
       "4  [this, study, aimed, investigate, serum, matri...  "
      ]
     },
     "execution_count": 30,
     "metadata": {},
     "output_type": "execute_result"
    }
   ],
   "source": [
    "df.head()"
   ]
  },
  {
   "cell_type": "markdown",
   "id": "1dc74100",
   "metadata": {},
   "source": [
    "We must convert to documents into usable data for the models to be able to interpret. We will import the gensim library to do this for our LDA model. Our first step in this process will be to create a Term Document frequency matrix. A Term Document Matrix is tracking the term frequency for each term by each document. You start with the Bag of Words representation of the documents and then for each document, you track the number of time a term exists. A Document Term matrix can become a very large, sparse matrix, depending on the number of documents in the corpus and the number of terms in each document."
   ]
  },
  {
   "cell_type": "code",
   "execution_count": 35,
   "id": "da099c18",
   "metadata": {},
   "outputs": [],
   "source": [
    "import gensim\n",
    "from gensim.utils import simple_preprocess"
   ]
  },
  {
   "cell_type": "code",
   "execution_count": 37,
   "id": "fc5a27ab",
   "metadata": {},
   "outputs": [],
   "source": [
    "data_words = df.final_text.values.tolist()"
   ]
  },
  {
   "cell_type": "code",
   "execution_count": 38,
   "id": "495235bd",
   "metadata": {},
   "outputs": [],
   "source": [
    "import gensim.corpora as corpora\n",
    "# Create Dictionary\n",
    "id2word = corpora.Dictionary(data_words)\n",
    "# Create Corpus\n",
    "texts = data_words"
   ]
  },
  {
   "cell_type": "code",
   "execution_count": 39,
   "id": "9e95ec26",
   "metadata": {},
   "outputs": [
    {
     "name": "stdout",
     "output_type": "stream",
     "text": [
      "[(0, 14), (1, 1), (2, 1), (3, 1), (4, 1), (5, 1), (6, 1), (7, 1), (8, 1), (9, 1), (10, 1), (11, 1), (12, 1), (13, 5), (14, 1), (15, 1), (16, 1), (17, 3), (18, 6), (19, 1), (20, 1), (21, 1), (22, 1), (23, 1), (24, 9), (25, 1), (26, 1), (27, 1), (28, 2), (29, 1)]\n"
     ]
    }
   ],
   "source": [
    "# Bag of words\n",
    "corpus = [id2word.doc2bow(text) for text in texts]\n",
    "# View\n",
    "print(corpus[:1][0][:30])"
   ]
  },
  {
   "cell_type": "markdown",
   "id": "4929419b",
   "metadata": {},
   "source": [
    "It is now time to create our first LDA model with our cleaned and preprocessed data. We will use two different LDA methods, with two different preprocessing methods. The second preprocessing method will be displayed below. "
   ]
  },
  {
   "cell_type": "markdown",
   "id": "c95a1278",
   "metadata": {},
   "source": [
    "### LDA Model Creation"
   ]
  },
  {
   "cell_type": "markdown",
   "id": "499c9232",
   "metadata": {},
   "source": [
    "Latent Dirichlet Allocation is a topic modeling technique used to extract topics from a corpus. Latent in this context means something is hidden and is yet to be discovered. The Dirichlet model part of LDA describes the pattern of the words that are repeating together, or occurring frequently, using probability distributions to do this. In the case of topic modeling, the process helps in estimating what are the chances of the words, which are spread over the document, will occur again? The end goal of LDA is to find the most optimal representation of the Document-Topic matrix and the Topic-Word matrix to find the most optimized Document-Topic distribution and Topic-Word distribution.\n",
    "\n",
    "It will be interesting here to see if this translates into classifying texts that are prelabeled successfully. In week 4 of this course we saw that non-negative matrix factorization did this well when being compared against a supverised learning model.\n",
    "\n",
    "We will first build the model using both the gensim library as well as the sklearn library. After this we can compare both models and the top words they generated. Lastly we will create out LSTM and compare it to our LDA models."
   ]
  },
  {
   "cell_type": "code",
   "execution_count": 40,
   "id": "80c75c0f",
   "metadata": {},
   "outputs": [],
   "source": [
    "from pprint import pprint"
   ]
  },
  {
   "cell_type": "code",
   "execution_count": 41,
   "id": "73af9e59",
   "metadata": {},
   "outputs": [
    {
     "name": "stdout",
     "output_type": "stream",
     "text": [
      "[(0,\n",
      "  '0.007*\"cancer\" + 0.007*\"cells\" + 0.006*\"patients\" + 0.006*\"the\" + 0.005*\"p\" '\n",
      "  '+ 0.004*\"expression\" + 0.004*\"cell\" + 0.004*\"study\" + 0.003*\"data\" + '\n",
      "  '0.003*\"lung\"'),\n",
      " (1,\n",
      "  '0.010*\"cancer\" + 0.006*\"patients\" + 0.006*\"the\" + 0.006*\"cells\" + '\n",
      "  '0.005*\"cell\" + 0.004*\"expression\" + 0.004*\"study\" + 0.004*\"p\" + '\n",
      "  '0.004*\"data\" + 0.003*\"analysis\"'),\n",
      " (2,\n",
      "  '0.009*\"cells\" + 0.008*\"cancer\" + 0.008*\"patients\" + 0.006*\"cell\" + '\n",
      "  '0.005*\"expression\" + 0.004*\"study\" + 0.004*\"p\" + 0.003*\"the\" + '\n",
      "  '0.003*\"tumor\" + 0.003*\"also\"')]\n"
     ]
    }
   ],
   "source": [
    "# number of topics\n",
    "num_topics = 3\n",
    "# Build LDA model\n",
    "lda_model = gensim.models.LdaMulticore(corpus=corpus,\n",
    "                                       id2word=id2word,\n",
    "                                       num_topics=num_topics)\n",
    "# Print the Keyword in the 10 topics\n",
    "pprint(lda_model.print_topics())\n",
    "doc_lda = lda_model[corpus]"
   ]
  },
  {
   "cell_type": "markdown",
   "id": "c1b0a459",
   "metadata": {},
   "source": [
    "Interestingly enough I do not see any topics here that are clearly describing one cancer over another. And even worse the word \"lung\" appears in two topics! This may not bode well for overall accuracy. In our next steps we will convert the text into vectors using TfidfVectorizer and apply this to our sklearn LDA model."
   ]
  },
  {
   "cell_type": "code",
   "execution_count": 43,
   "id": "53ac86e3",
   "metadata": {},
   "outputs": [
    {
     "data": {
      "text/plain": [
       "<gensim.models.ldamulticore.LdaMulticore at 0x16b15b3a0>"
      ]
     },
     "execution_count": 43,
     "metadata": {},
     "output_type": "execute_result"
    }
   ],
   "source": [
    "lda_model"
   ]
  },
  {
   "cell_type": "code",
   "execution_count": 44,
   "id": "8312cb05",
   "metadata": {},
   "outputs": [],
   "source": [
    "vect =TfidfVectorizer(max_features=1000)\n",
    "vect_text=vect.fit_transform(df['clean_text'])"
   ]
  },
  {
   "cell_type": "code",
   "execution_count": 45,
   "id": "5220cf4b",
   "metadata": {},
   "outputs": [],
   "source": [
    "from sklearn.decomposition import LatentDirichletAllocation\n",
    "lda_model=LatentDirichletAllocation(n_components=3,\n",
    "learning_method='online',random_state=42,max_iter=1) \n",
    "lda_top=lda_model.fit_transform(vect_text)"
   ]
  },
  {
   "cell_type": "code",
   "execution_count": 46,
   "id": "2ff6722d",
   "metadata": {},
   "outputs": [
    {
     "name": "stdout",
     "output_type": "stream",
     "text": [
      "Topic 0: \n",
      "patients n\n",
      "cancer n\n",
      "the n\n",
      "study n\n",
      "covid n\n",
      "lung n\n",
      "disease n\n",
      "treatment n\n",
      "patient n\n",
      "data n\n",
      "Topic 1: \n",
      "genes n\n",
      "cancer n\n",
      "expression n\n",
      "the n\n",
      "gene n\n",
      "mutations n\n",
      "analysis n\n",
      "patients n\n",
      "samples n\n",
      "lung n\n",
      "Topic 2: \n",
      "cells n\n",
      "cell n\n",
      "expression n\n",
      "cancer n\n",
      "fig n\n",
      "protein n\n",
      "tumor n\n",
      "mice n\n",
      "the n\n",
      "mir n\n"
     ]
    },
    {
     "name": "stderr",
     "output_type": "stream",
     "text": [
      "/Users/williampratt/opt/miniconda3/envs/mlp/lib/python3.8/site-packages/sklearn/utils/deprecation.py:87: FutureWarning: Function get_feature_names is deprecated; get_feature_names is deprecated in 1.0 and will be removed in 1.2. Please use get_feature_names_out instead.\n",
      "  warnings.warn(msg, category=FutureWarning)\n"
     ]
    }
   ],
   "source": [
    "vocab = vect.get_feature_names()\n",
    "for i, comp in enumerate(lda_model.components_):\n",
    "     vocab_comp = zip(vocab, comp)\n",
    "     sorted_words = sorted(vocab_comp, key= lambda x:x[1], reverse=True)[:10]\n",
    "     print(\"Topic \"+str(i)+\": \")\n",
    "     for t in sorted_words:\n",
    "            print(t[0],end=\" \")\n",
    "            print(\"n\")"
   ]
  },
  {
   "cell_type": "markdown",
   "id": "ae0b6f33",
   "metadata": {},
   "source": [
    "Lung appears in two separate topics here as well! At least we know the algorithm is repeatable in terms of precision. In our next steps we will use a method similar to what was used in week 4 to evaluate our NNMF accuracy."
   ]
  },
  {
   "cell_type": "code",
   "execution_count": 47,
   "id": "97a6e188",
   "metadata": {},
   "outputs": [
    {
     "data": {
      "text/plain": [
       "array([[0.91364063, 0.04543604, 0.04092333],\n",
       "       [0.91798607, 0.04379929, 0.03821464],\n",
       "       [0.77801624, 0.0310928 , 0.19089096],\n",
       "       ...,\n",
       "       [0.05243193, 0.04898693, 0.89858114],\n",
       "       [0.05912441, 0.06264995, 0.87822564],\n",
       "       [0.05063301, 0.04477252, 0.90459447]])"
      ]
     },
     "execution_count": 47,
     "metadata": {},
     "output_type": "execute_result"
    }
   ],
   "source": [
    "lda_top"
   ]
  },
  {
   "cell_type": "code",
   "execution_count": 81,
   "id": "50fbc579",
   "metadata": {},
   "outputs": [],
   "source": [
    "pred_class = pd.DataFrame({'id' : [0, 1, 2], 'Target' : ['Thyroid_Cancer', 'Lung_Cancer', 'Colon_Cancer']})"
   ]
  },
  {
   "cell_type": "code",
   "execution_count": 82,
   "id": "14dbbaed",
   "metadata": {},
   "outputs": [],
   "source": [
    "train_pred = pd.DataFrame({'id':pd.DataFrame(lda_top).idxmax(axis=1)})"
   ]
  },
  {
   "cell_type": "code",
   "execution_count": 83,
   "id": "cbdfde7b",
   "metadata": {},
   "outputs": [
    {
     "data": {
      "text/plain": [
       "0       Thyroid_Cancer\n",
       "1       Thyroid_Cancer\n",
       "2       Thyroid_Cancer\n",
       "3       Thyroid_Cancer\n",
       "4       Thyroid_Cancer\n",
       "             ...      \n",
       "7565    Thyroid_Cancer\n",
       "7566    Thyroid_Cancer\n",
       "7567      Colon_Cancer\n",
       "7568      Colon_Cancer\n",
       "7569      Colon_Cancer\n",
       "Name: Target, Length: 7570, dtype: object"
      ]
     },
     "execution_count": 83,
     "metadata": {},
     "output_type": "execute_result"
    }
   ],
   "source": [
    "train_pred.merge(pred_class, how = 'left', on = 'id').Target"
   ]
  },
  {
   "cell_type": "code",
   "execution_count": 84,
   "id": "21b00a6d",
   "metadata": {},
   "outputs": [
    {
     "data": {
      "text/plain": [
       "0.43659180977542933"
      ]
     },
     "execution_count": 84,
     "metadata": {},
     "output_type": "execute_result"
    }
   ],
   "source": [
    "df['Pred'] = train_pred.merge(pred_class, how = 'left', on = 'id').Target\n",
    "(df['Pred'] == df['Target']).mean()"
   ]
  },
  {
   "cell_type": "markdown",
   "id": "4a614130",
   "metadata": {},
   "source": [
    "Here I used more of a guess and check method to get the highest accuracy possible by placing the three different cancers in a dataframe and calculate accuracy. In the next few cell blocks we will use an actual function that will help verify whether our accuracy truly is only ~44%."
   ]
  },
  {
   "cell_type": "code",
   "execution_count": 61,
   "id": "824fd2a8",
   "metadata": {},
   "outputs": [],
   "source": [
    "import itertools"
   ]
  },
  {
   "cell_type": "code",
   "execution_count": 62,
   "id": "d38bbfb7",
   "metadata": {},
   "outputs": [],
   "source": [
    "def predict(w_matrix):\n",
    "    sortedW = np.argsort(w_matrix)\n",
    "    n_predictions, maxValue = sortedW.shape\n",
    "    predictions = [[sortedW[i][maxValue - 1]] for i in range(n_predictions)]\n",
    "    topics = np.empty(n_predictions, dtype = np.int64)\n",
    "    for i in range(n_predictions):\n",
    "        topics[i] = predictions[i][0]\n",
    "    return topics"
   ]
  },
  {
   "cell_type": "code",
   "execution_count": 63,
   "id": "d6e9a2b4",
   "metadata": {},
   "outputs": [],
   "source": [
    "def label_permute(ytdf,yp,n=3):\n",
    "    \"\"\"\n",
    "    ytdf: labels dataframe object\n",
    "    yp: clustering label prediction output\n",
    "    Returns permuted label order and accuracy. \n",
    "    \"\"\"\n",
    "    perms = list(itertools.permutations([0, 1, 2]))    #create permutation list\n",
    "    best_labels = []\n",
    "    best_acc = 0 \n",
    "    current = {}\n",
    "    labels = ['Lung_Cancer', 'Thyroid_Cancer', 'Colon_Cancer']\n",
    "    for perm in perms:\n",
    "        for i in range(n):\n",
    "            current[labels[i]] = perm[i]\n",
    "            if len(current) == 3:\n",
    "                conditions = [\n",
    "                    (ytdf['Target'] == current['Lung_Cancer']),\n",
    "                    (ytdf['Target'] == current['Thyroid_Cancer']),\n",
    "                    (ytdf['Target'] == current['Colon_Cancer']),]\n",
    "                ytdf['test'] = ytdf['Target'].map(current)\n",
    "                current_accuracy = accuracy_score(ytdf['test'], yp)\n",
    "                if current_accuracy > best_acc:\n",
    "                    best_acc = current_accuracy\n",
    "                    best_labels = perm\n",
    "                    ytdf['best'] = ytdf['test']\n",
    "    return best_labels, best_acc"
   ]
  },
  {
   "cell_type": "code",
   "execution_count": 86,
   "id": "f2575fd7",
   "metadata": {},
   "outputs": [
    {
     "name": "stdout",
     "output_type": "stream",
     "text": [
      "accuracy= 0.43659180977542933\n"
     ]
    }
   ],
   "source": [
    "yhat_train = predict(lda_model.transform(vect_text))\n",
    "label_order, accuracy = label_permute(df, yhat_train )\n",
    "print('accuracy=', accuracy)"
   ]
  },
  {
   "cell_type": "markdown",
   "id": "2d27e91c",
   "metadata": {},
   "source": [
    "This confirms our accuracy for the LDA really was only 44%. This is a disappointing result that I believe we can reconcile using an LSTM. A possible problem here was that although we generated 3 topics they did not necessarily correspond to the 3 different cancers. There could be any number of 3 different topics that the LDA model generates."
   ]
  },
  {
   "cell_type": "code",
   "execution_count": 88,
   "id": "3975804a",
   "metadata": {},
   "outputs": [
    {
     "data": {
      "text/plain": [
       "array([[1240,  380,  960],\n",
       "       [ 705,  695,  780],\n",
       "       [ 880,  560, 1370]])"
      ]
     },
     "execution_count": 88,
     "metadata": {},
     "output_type": "execute_result"
    }
   ],
   "source": [
    "conm = confusion_matrix(df['Target'],df['Pred'])\n",
    "conm"
   ]
  },
  {
   "cell_type": "code",
   "execution_count": 89,
   "id": "a84fa1f9",
   "metadata": {},
   "outputs": [
    {
     "data": {
      "image/png": "[encoded data removed]",
      "text/plain": [
       "<Figure size 700x500 with 2 Axes>"
      ]
     },
     "metadata": {},
     "output_type": "display_data"
    }
   ],
   "source": [
    "plt.figure(figsize=(7, 5))\n",
    "sns.heatmap(conm, annot=True, fmt='d', cmap='cool')\n",
    "plt.show()"
   ]
  },
  {
   "cell_type": "markdown",
   "id": "13b781bf",
   "metadata": {},
   "source": [
    "### Analysis and Hyperparameter Tuning"
   ]
  },
  {
   "cell_type": "markdown",
   "id": "ab3eb183",
   "metadata": {},
   "source": [
    "Above we can see that our confusion matrix here is all over the place in terms of picking the 3 topics. Although, we can see that topics 0 and 2 did perform slightly better than topic 1. Those topics were lung cancer and colon cancer. Our hyperparameters in this scenario were the ways we vectorized our text and fed it into the LDA. Using both the bag of words approach as well as the TF-IDF approach produced similar results. The primary difference between the two approaches is that compared to regular term frequency BOW, the TF-IDF weighting scheme gives more weight to words which appear in fewer documents and less weight to words which appear in many documents. Next we will look to see whether an LSTM will produce better results."
   ]
  },
  {
   "cell_type": "markdown",
   "id": "459b0a94",
   "metadata": {},
   "source": [
    "### LSTM Model Creation"
   ]
  },
  {
   "cell_type": "markdown",
   "id": "f785e8a1",
   "metadata": {},
   "source": [
    "Long short-term memory (LSTM) networks are an extension of an recurrent neural network (RNN) that extend memory. An RNN uses feedback loops which makes it different from other neural networks. Those loops help the RNN to process the sequence of the data. LSTMs were introduced to avoid the long-term dependency problem of RNNs. In a regular RNN, the problem frequently occurs when connecting previous information to new information.\n",
    "\n",
    "In a bidirectional LSTM, our input flows in two directions, making a bi-lstm different from the regular LSTM. With the regular LSTM, we can make input flow in one direction, either backwards or forward. However, in bi-directional, we can make the input flow in both directions to preserve the future and the past information."
   ]
  },
  {
   "cell_type": "code",
   "execution_count": 90,
   "id": "1e0c5ddf",
   "metadata": {},
   "outputs": [
    {
     "name": "stdout",
     "output_type": "stream",
     "text": [
      "Before Tokenization & Padding \n",
      " Thyroid surgery in  children in a single institution from Osama Ibrahim Almosallama Ali Aseerib Ahmed Alhumaida Ali S AlZahranic Saif Alsobhib Saud AlShanafeybFrom the  aDepartment of Surgery College of Medicine Qassim University Buraidah Al Qassim Saudi Arabia  bDepartment of Surgery King Faisal Specialist Hospital and Research Center Riyadh Saudi Arabia cDepartment of Medicine King Faisal Specialist Hospital and Research Center Riyadh Saudi Arabia Correspondence   Dr  Osama Ibrahim  Almosallam  Department of  Surgery  College  of  Medicine Qassim  University  PO  Box   Buraidah  Al  Qassim   Saudi  Arabia  osama_iaahotmailcom ORCID orcid0000000290367564        Citation  Almosallam OI Aseeri A Alhumaid A AlZahrani AS Alsobhi S AlShanafey S Thyroid surgery in  children  in  a  single  institution  from   Ann  Saudi  Med         Received January  Accepted May  Published August  Copyright Copyright   Annals of Saudi Medicine Saudi Arabia This is an   access  under the Creative Commons AttributionNonCommercialNoDerivatives  International License CC BYNCND The details of which can be accessed at httpcreativecommons licensesbyncnd40Funding NoneBACKGROUND Data on thyroid surgery in children are scarceOBJECTIVE Analyze outcome data on thyroid surgery in a pediatric populationDESIGN Medical record reviewSETTING Tertiary health care institutionPATIENTS AND METHODS We collected demographic and clinical data on patients  years or younger who had thyroid surgery in the period  to  Descriptive data are presentedMAIN OUTCOME MEASURES Indications for thyroidectomy thyroid pathology complications length of stay and radioactive iodine treatment and recurrencesSAMPLE SIZE RESULTS Of  patients who underwent  thyroidectomy procedures   were females and the mean age at operation was  years and   were associated with multiple endocrine neoplasia type  There was no history of radiation exposure Eightyone patients  had fine needle aspiration FNA which correlated with the final histopathology in  of cases Sixtysix patients  had malignant cancer  papillary   of  patients who had neck dissection had lymph node metastasis and   had distant metastases to the lung Procedures included total thyroidectomy  hemithyroidectomy  completion  and subtotal thyroidectomy  Twentythree  patients    developed  hypocalcemia    permanent and   had unilateral recurrent laryngeal nerve injury  permanent Patients were followed up for a mean duration of  months median  months Of  patients with thyroid cancer   received radioactive iodine and   had recurrence  Malignancy  is  the  commonest  indication  for  thyroid surgery  in  children  and  FNA  is  highly  diagnostic  Hypocalcemia  and recurrent laryngeal nerve injury are significant complications The recurrence rate in thyroid cancer is  LIMITATIONS RetrospectiveCONFLICT OF INTEREST Noneoriginal ANN SAUDI MED  JULYAUGUST WWWANNSAUDIMEDNET 0cThyroid  diseases  requiring  surgery  are  relatively uncommon in children compared to adults The prevalence  of  palpable  thyroid  nodules  in  children  ranges  from    to    Sporadic  welldifferentiated thyroid cancer is the most common endocrine malignancy in children accounting for  of pediatric cancers  in  the  prepubertal  age  group  and  up  to   of cancers in adolescents aged  year2 The most common indication for thyroid surgery in children varies among published studies but thyroidectomy for malignant conditions is rising38 Data in children throughout the  world  are  relatively  scarce  The  objective  of  this study was to analyze the clinical data and outcome of thyroid  surgery  in  a  large  series  of  children  treated  at a  single  center  at  King  Faisal  Specialist  Hospital  and Research Center KFSHRC in RiyadhPATIENT AND METHODS With the approval of the Institutional Review Board IRB at KFSHRC the medical records of all patients  years old and younger who underwent a thyroid surgery between    and    were  retrospectively  reviewed We elected to include patients up to the year  to ensure a reasonable followup period Patients for the study were identified by a search of the operating room log for all procedures involving the thyroid gland for the specified age groupDemographic  data  clinical  features  and  surgical outcomes  were  collected  Specific  data  that  were  obtained included age at operation gender family history presenting  symptoms  history  of  radiation  exposure presence of multiple endocrine neoplasia type  MEN   thyroid  function  test  presence  and  size  of  thyroid nodules by ultrasound presence of lymph nodes metastasis or distant metastasis fine needle aspiration FNA cytology  surgical  procedure  final  histopathology  and length of followup Outcomes analyzed were postoperative complications including transient or permanent hypocalcemia  transient  or  permanent  recurrent  laryngeal nerve paralysis wound infection and hematoma length of stay and radioactive iodine treatment and recurrences Thyroid procedures in this series included hemithyroidectomy  subtotal  total  and  completion  thyroidectomy Surgeries were performed by either an endocrine adult surgeon or a pediatric surgeon No intraoperative nerve monitoring was used Early in the series procedures were performed by adult endocrine surgeons but lately a combined approach was adopted where pediatric surgeons and adult endocrine surgeons collaborated in such cases  proceduresthe normal range in our laboratory regardless of symptoms Transient hypocalcemia was identified if it lasted for less than  months while permanent hypocalcemia was  considered  if  the  serum  calcium  level  remained below normal range and the patient continued on calcium  supplementation  after    months  of  the  surgery All patients with a family history of MEN  underwent genetic testing of the RET protooncogene to confirm the diagnosis All patients who underwent completion thyroidectomy  had  a  preoperative  and  postoperative vocal  cords  assessment  at  the  Otolaryngology  clinic Descriptive data were generated and comparisons were conducted using the t test for continuous data and the chisquare or Fisher exact tests for proportionsRESULTSBetween    and      patients  underwent   surgical  procedures    patients  underwent  two  procedures  for  thyroid  disease  at  our  institution  Eighty  patients  were females The mean age at operation was  years median  years range  years The most common indication for thyroidectomy was thyroid nodule which was present in   of cases Table  The mean SD size of thyroid nodules was   mm There were  cases  associated with MEN  syndromes The final pathology in two patients with MEN syndrome showed medullary thyroid cancer MTC while the remaining  patients had prophylactic procedures before development of MTC None of the patients had a history of radiation exposure Eightyone patients  FNA  which  correlated  with  the  final  histopathology  in  of cases There were three cases of toxic adenoma and one case of Graves disease which did not require FNA  The  remaining  cases  underwent  FNA  at  another institution and FNA was not repeated at our institution or they came for completion thyroidectomy with documented  pathology  for  malignancy  after  they  had  their first surgery in another hospitalThe  most  common  diagnoses  included  papillary thyroid cancer  and multinodular goiter or colloid Table  Indications for thyroidectomy in  patients IndicationNodulen  MEN  prophylaxisHyperthyroidismMultinodular goiterCompletion thyroidectomy    Hypocalcemia was defined by calcium levels below Data are number  original PEDIATRIC THYROID SURGERYANN SAUDI MED  JULYAUGUST WWWANNSAUDIMEDNET 0cnodule  Table  Surgical procedures included total thyroidectomy  hemithyroidectomy  completion  thyroidectomy    and  subtotal  thyroidectomy  Neck dissection was performed in   patients  Operative  complications  were  observed in    patients    The  most  common  complication was hypocalcemia  transient  permanent and Table  Thyroid pathology in the  patientsPathologyn  BenignNormal thyroid tissueColloid noduleCystAdenomaThyroiditisGraves diseaseThyroid cancerPapillaryFollicularMedullaryHurthleAnaplasticTotalData are number              Table  Benign and malignant lesions in  patientsBenignn37Malignantn66 P value  Age meanyearsGender malefemalePresence of noduleHypocalcemiaRecurrent laryngeal nerve palsyBleedinghematomaWound infectionTracheal injuryOverall complicationsMean length of stay daysMEN recurrent laryngeal nerve palsy  transient  permanent all were unilateral Table  Of  patients with malignant lesions   had lymph node metastasis and  patients  had distant metastases to the lung  None  of  the  patients  developed  postoperative bleeding wound infection or tracheal injury Patients were followed up for a mean of  months median   range    months  radioactive  iodine  treatment  was  delivered  to    patients    with  malignant  lesions    patients    had  recurrences   were  local  recurrences  and    were  local  and  distant recurrences to the lung Three cases received radioactive iodine RAI before and after recurrence One case was low risk before recurrence so did not receive RAI until after recurrence One case had medullary thyroid cancer  so  did  not  receive  RAI  In  the  remaining  five cases  there was no clear data whether those patients received RAI before or only after a recurrence All local recurrences  underwent  resection  except  for  one  patient who was lost follow up There was no mortality in this study DISCUSSIONThe most common indication for thyroidectomy in this series was thyroid nodule which correlates with previously published reports in the pediatric population35 Children with thyroid nodules have an estimated fourfold  higher  risk  of  developing  thyroid  cancer  compared to adults910 The high incidence of malignancy in this series suggests children with a thyroid nodule should be carefully evaluatedFNA is a valuablemethod for preoperative evaluation of thyroid nodules However there are limitations on  the  routine  use  of  FNA  in  children  including  the need  for  sedation  sampling  errors  and  the  limited availability  of  experienced  cytopathologists11  Many previous studies reported high sensitivity and specificity of FNA in evaluating thyroid nodule in children1114 which correlate with our findingsOur data showed lymph node metastasis in  of  thyroid  cancer  cases  which  supports  the  notion that  children  with  thyroid  cancer  frequently  present with more extensive disease than adults Lymphnode involvement  at  diagnosis  is  seen  in    to    of children  compared  with    to    of  adults  with differentiated thyroid cancer1523 Because our hospital is the largest referral center in Saudi Arabia especially for oncology cases this may explain the large number of lymph node and distant metastasis In this cohortThe  most  common  complication  reported  after thyroidectomy in children is hypoparathyroidism with an incidence ranging between  to  which original PEDIATRIC THYROID SURGERYANN SAUDI MED  JULYAUGUST WWWANNSAUDIMEDNET 0ccorresponds with our results of  which are reported as hypocalcemia in Table    One study found that total thyroidectomy central and bilateral neck dissection Graves disease and malignancy were  risk  factors  for  hypocalcemia  after  thyroid  surgery3 In this cohort postoperative hypocalcemia was noted more in malignant cases but it failed to reach statistical significance Moreover there was no significant difference between benign and malignant cases in  terms  of  mean  age  gender  distribution  recurrent laryngeal nerve injury or overall complications a finding that was reported previously26 Multiple studies in recent years have found an inverse relationship between surgeon volume and complication  rates2728  but  similar  data  in  the  pediatric population is lacking One study found that highvolume  endocrine  surgeons  have  better  outcomes  and shorter lengths of stay and lower costs after thyroidectomy and parathyroidectomy in children compared to pediatric surgeons general surgeons or otolaryngologists29  Scheumann  and  colleagues  also  concluded that a collaborative approach between pediatric and endocrine surgeons would have better outcomes This has led other authors to suggest that a combined approach with endocrine and pediatric surgeons in addition to pediatric endocrinologists may optimize the care of children with surgical thyroid disease given the low number of pediatric patients4 Our data do not allow for comparisons of different approaches given the late adoption of the combined approach The  recurrence  rate  for  thyroid  cancer  in  children after  thyroidectomy  has  varied  widely  in  reported studies  ranging  from    to    while  it  was   in  this  cohort  Only  a  few  studies  explored  the predictors  of  recurrence  Lymph  node  involvement multiple nodules male gender younger age histologic subtype and advanced tumor stage were risk factors associated with recurrence17233033 In  this  study    of  patients  with  malignant  lesions received RAI Although there are conflicting data regarding  the  indications  of  postoperative  RAI  treatment in lowrisk patients the current recommendation is that lowrisk patients can be treated without RAI3436There are some limitations to this study The retrospective nature may affect the validity and quality of the data The small number of cases in some categories did not enable us to compare groups and explore predictors relative to these factors On the other hand this study adds to the scarce data on thyroid surgery in pediatric age group Malignancy is the commonest indication  for  thyroid  surgery  in  children  and  FNA  is highly  diagnostic  Hypocalcemia  and  recurrent  laryngeal nerve injury are significant complications Cancerrelated  death  is  extremely  rare  but  recurrence  is  not uncommon and a significant number of patients with malignant cases received RAI treatmentoriginal PEDIATRIC THYROID SURGERYANN SAUDI MED  JULYAUGUST WWWANNSAUDIMEDNET 0cREFERENCES  Trowbridge  FL  Matovinovic  J  McLaren GD Nichaman MZ Iodine and goiter in children Pediatrics  Ries LAG Melbert D Krapcho M Stinchcomb  DG  Howlader  N  Horner  MJ  et  al SEER  Cancer  Statistics  Review   Bethesda  National  Cancer  Institute   Based  on  November    SEER  data  submission Chen Y[h] Masiakos PT Gaz RD Hodin RA Parangi S Randolph GW et al Pediatric thyroidectomy in a high volume thyroid surgery center Risk factors for postoperative hypocalcemia J Pediatr Surg  Aug5081316   Wood  JH  Partrick  DA  Barham  HP  Bensard DD Travers HS Bruny JL et al Pediatric thyroidectomy  a  collaborative  surgical  approach J Pediatr Surg  May4658238  Scholz S Smith JR Chaignaud B Shamberger  RC  Huang  SA  Thyroid  surgery  at Childrens Hospital Boston a 35year singleinstitution  experience  J  Pediatr  Surg   Mar46343742   Josefson  J  Zimmerman  D  Thyroid  nodules and cancers in children Pediatr Endocrinol Rev  Sep611423 Hameed R Zacharin MR  Changing face of paediatric and adolescent thyroid cancer J Paediatr Child Health   LugoVicente  H  Ortiz  VN  Irizarry  H Camps  JI  PagÃ¡n  V  Pediatric  thyroid  nodules management in the era of fine needle aspirationJ Pediatr Surg  Mussa A De Andrea M Motta M Mormile A  Palestini  N  Corrias  A  Predictors  of  Malignancy in Children with Thyroid Nodules J Pediatr  Oct167488692 Amirazodi E Propst EJ Chung CT Parra DA  Wasserman  JD  Pediatric  thyroid  FNA biopsy  Outcomes  and  impact  on  management over  years at a tertiary care center Cancer Cytopathol    Partyka  KL  Huang  EC2  Cramer  HM Chen  S  Wu  HH  Histologic  and  clinical followup  of  thyroid  fineneedle  aspirates in  pediatric  patients  Cancer  Cytopathol  Sinha CK Decoppi P Pierro A Brain C Hindmarsh P Butler G et al Thyroid Surgery in Children Clinical Outcomes Eur J Pediatr Surg  Oct2554259 Kundel A Thompson GB Richards ML Qiu LX Cai Y Schwenk FW et al Pediatric Endocrine Surgery A 20Year Experience at the  Mayo  Clinic  J  Clin  Endocrinol  Metab February   Jiang W Newbury RO Newfield RS Pediatric  thyroid  surgery  and  management  of thyroid  nodulesan  institutional  experience features  and over a 10year period Int J Pediatr Endocrinol  Burke JF Sippel RS Chen H Evolution of Pediatric Thyroid Surgery at a Tertiary Medical Center Surg Res     AlQahtani  KH  Tunio  MA  Al  Asiri  M Aljohani NJ Bayoumi Y Riaz K et al Clinicopathological treatment outcomes  of  differentiated  thyroid  cancer in  Saudi  children  and  adults  J  Otolaryngol Head Neck Surg  Nov  Kluijfhout WP van Beek DJ Verrijn Stuart  AA  Lodewijk  L  Valk  GD  Van  der  Zee DC  et  al  Postoperative  Complications After  Prophylactic  Thyroidectomy  for  Very Young  Patients  With  Multiple  Endocrine Neoplasia  Type    Medicine  Baltimore 20159429e1108  Raval MV Browne M Chin AC Zimmerman D Angelos P Reynolds M Total thyroidectomy  for  benign  disease  in  the  pediatric patientfeasible  and  safe  J  Pediatr  Surg  Stavrakis AI Ituarte PH Ko CY Yeh MW Surgeon volume as a predictor of outcomes in  inpatient  and  outpatient  endocrine  surgery Surgery   Sosa JA Bowman HM Tielsch JM Powe NR  Gordon  TA  Udelsman  R  The  importance of surgeon experience for clinical and economic  outcomes  from  thyroidectomy Ann Surg   Tuggle CT  Roman SA Wang TS Boudourakis  L  Thomas  D  Udelsman  R  et  al Pediatric  endocrine  surgery  Who  is  operating  on  our  children  Surgery   Dec144686977  Park  S  Jeong  JS  Ryu  HR  Lee  C  Park JH Kang S et al Differentiated Thyroid Carcinoma of Children and Adolescents27Year Experience  in  the  Yonsei  University  Health System J Korean Med Sci   Palmer BA Zarroug AE Poley RN Kollars  JP  Moir  CR  Papillary  thyroid  carcinoma in children risk factors and complications  of  disease  recurrence  J  Pediatr  Surg  Wada N Sugino K Mimura T Nagahama M  Kitagawa  W  Shibuya  H  et  al  Pediatric differentiated  thyroid  carcinoma  in  stage  I risk  factor  analysis  for  disease  free  survival BMC Cancer    D Danese Gardini A Farsetti A Sciacchitano  S  Andreoli  M  Pontecorvi  A  Thyroid carcinoma in children and adolescents Eur J Pediatr   Astl  J  Chovanec  M  Lukes  P  Katra  R Dvorakova M Vlcek P et al Thyroid carcinoma surgery in children and adolescents   years experience surgery of pediatric thyroid lymph  node  metastases carcinoma  Int  J  Pediatr  Otorhinolaryngol   Chaukar  DA  Rangarajan  V  Nair  N Nadkarni  MS  Pai  PS  Dcruz  AK  et  al  Pediatric  thyroid  cancer  J  Surg  Oncol     Dzodic  R  Buta  M  Markovic  I  Gavrilo D Matovic M Milovanovic Z et al Surgical management  of  welldifferentiated  thyroid carcinoma  in  children  and  adolescents   years of experience of a single institution in Serbia Endocr J   Scheumann  GF  Gimm  O  Wegener G  Hundeshagen  H  Dralle  H  Prognostic significance  and  surgical  management  of locoregional in papillary thyroid cancer World J Surg   Shi RL Qu N Yang SW Tumor size interpretation for predicting cervical lymph node metastasis using a differentiated thyroid cancer risk model Onco Targets Ther    Zimmerman D Hay ID Gough IR Goellner JR Ryan JJ Grant CS et al Papillary thyroid carcinoma in children and adults longterm  followup  of    patients  conservatively treated at one institution during three decades Surgery   Collini  P  Mattavelli  F  Pellegrinelli  A Barisella M Ferrari A Massimino M Papillary carcinoma of the thyroid gland of childhood and adolescence Morphologic subtypes biologic behavior and prognosis a clinicopathologic study of  sporadic cases treated at a single institution during a 30year period Am J Surg Pathol   BorsonChazot  Causeret  S  Lifante  JC Augros M Berger N Peix JL Predictive factors for recurrence from a series of  children and  adolescents  with  differentiated  thyroid cancer World J Surg   Baumgarten HD Bauer AJ Isaza A MostoufiMoab S Kazahaya K Adzick NS Surgical management of pediatric thyroid disease Complication  rates  after  thyroidectomy  at the Childrens Hospital of Philadelphia highvolume Pediatric Thyroid Center Journal of pediatric  surgery    Oct   Kurzawinski TR De Coppi P Thyroidectomy in Children InPediatric Surgery  pp  Springer Berlin Heidelberg  Francis  G  Waguespack  SG  Bauer  AJ Angelog P Benvenga S et al Management Guidelines  for  Children  with  Thyroid  Nodules  and  Differentiated  Thyroid  Cancer  The American  Thyroid  Association  Guidelines Task Force on Pediatric Thyroid Cancer THYROID Volume  Number  original PEDIATRIC THYROID SURGERYANN SAUDI MED  JULYAUGUST WWWANNSAUDIMEDNET 0c' \n",
      "\n"
     ]
    },
    {
     "name": "stdout",
     "output_type": "stream",
     "text": [
      "After Tokenization & Padding \n",
      " [  77   66  127 2090 1463  207  147    4  225  175   82  187   39    8\n",
      "   58  569   83  308   15   80    6    6   73   69    6  207  147    4\n",
      " 1611    3 4943 1667   41   41   69   31  128   69   31   66  127  207\n",
      "  147  179    4 1611    3 4943   23  165 1145  179    2 2090  207  363\n",
      "  468  718  147  638   41 2363  445   67 1546 1435 4429   66  127 2090\n",
      "  207   15   41  958  598  128   69  175   80   69  612   66  127  371\n",
      "  595    2  207  147    4 1611    3 4943  165    2 1145    2    6  450\n",
      " 4860    4   41  991  130   77   77  318  764    3  371  595    2    4\n",
      " 1569  207   15  821   41  958 3118 3732   67  932   34  274 1450    8\n",
      " 1532  548  363  468  190   38    6 1463  207   15   82  139  713 3446\n",
      "   23   80 2638 1652 2145 3424 1409 3152   66  127 1569  207  147    4\n",
      " 1611    3 1370 1202  945    2   17  183   27   76 4860  150  168 3199\n",
      "  179   31  176    6   69    6   69 1569  147    2    1  207 1878    2\n",
      " 4793    3 1203 1721    3  273    6 3412   29    2  120  183   27    6\n",
      "  450 4860  150    6  575  812   41  958 1968   73 3073   69   67 2572\n",
      "  925  162    8  582   20    6 1137    2 1611    3 4943    7 1463  207\n",
      "   15  821   41  958 4677 3367    6   73  200 2646  371  595    2 2090\n",
      "  207   58 2545  435   50 4286   27    1  202    2 2090  207  423  481\n",
      "    2 2090  179 3620  631   31 4286    4 1611  179  707 4602  130 3367\n",
      "   31   73   66  127  595  817    8 1611    7  207  883    3 1463  207\n",
      "   15    1 1019  207  203  817 3901   19 2090  207   15  207  343  114\n",
      "  587 2090  207 3555  376 3368]\n"
     ]
    }
   ],
   "source": [
    "max_words = 5000\n",
    "max_len = 300\n",
    "\n",
    "def tokenize_pad_sequences(text):\n",
    "    '''\n",
    "    This function tokenize the input text into sequnences of intergers and then\n",
    "    pad each sequence to the same length\n",
    "    '''\n",
    "    # Text tokenization\n",
    "    tokenizer = Tokenizer(num_words=max_words, lower=True, split=' ')\n",
    "    tokenizer.fit_on_texts(text)\n",
    "    # Transforms text to a sequence of integers\n",
    "    X = tokenizer.texts_to_sequences(text)\n",
    "    # Pad sequences to the same length\n",
    "    X = pad_sequences(X, padding='post', maxlen=max_len)\n",
    "    # return sequences\n",
    "    return X, tokenizer\n",
    "\n",
    "print('Before Tokenization & Padding \\n', df['Text'][0],'\\n')\n",
    "X, tokenizer = tokenize_pad_sequences(df['Text'])\n",
    "print('After Tokenization & Padding \\n', X[0])"
   ]
  },
  {
   "cell_type": "code",
   "execution_count": 91,
   "id": "abb94893",
   "metadata": {},
   "outputs": [
    {
     "data": {
      "text/plain": [
       "array([[  77,   66,  127, ..., 3555,  376, 3368],\n",
       "       [  38, 2292,  632, ...,  172, 3050,  906],\n",
       "       [1258,  130, 3316, ...,  659,   54, 3368],\n",
       "       ...,\n",
       "       [   2,  863, 4989, ...,   12,  425,  335],\n",
       "       [   1,   16,    2, ...,    2,    3, 1402],\n",
       "       [1177,  104,    1, ...,  970,  104,    1]], dtype=int32)"
      ]
     },
     "execution_count": 91,
     "metadata": {},
     "output_type": "execute_result"
    }
   ],
   "source": [
    "X"
   ]
  },
  {
   "cell_type": "code",
   "execution_count": 93,
   "id": "1f2d7472",
   "metadata": {},
   "outputs": [],
   "source": [
    "from sklearn.model_selection import train_test_split"
   ]
  },
  {
   "cell_type": "code",
   "execution_count": 94,
   "id": "23b8f05d",
   "metadata": {},
   "outputs": [
    {
     "name": "stdout",
     "output_type": "stream",
     "text": [
      "Train:          (4239, 300) (4239, 3)\n",
      "Validation Set: (1817, 300) (1817, 3)\n",
      "Test Set:       (1514, 300) (1514, 3)\n"
     ]
    }
   ],
   "source": [
    "y = pd.get_dummies(df.Target)\n",
    "X_trn, X_tst, y_trn, y_tst = train_test_split(X, y, test_size=0.2, random_state=42, stratify=y)\n",
    "X_trn, X_vld, y_trn, y_vld = train_test_split(X_trn, y_trn, test_size=0.3, random_state=42, stratify=y_trn)\n",
    "\n",
    "print('Train:         ', X_trn.shape, y_trn.shape)\n",
    "print('Validation Set:', X_vld.shape, y_vld.shape)\n",
    "print('Test Set:      ', X_tst.shape, y_tst.shape)"
   ]
  },
  {
   "cell_type": "markdown",
   "id": "51d26cfd",
   "metadata": {},
   "source": [
    "We now have our training, validation and testing set to be able to evaluate if our model is overfitting."
   ]
  },
  {
   "cell_type": "code",
   "execution_count": 97,
   "id": "33676011",
   "metadata": {},
   "outputs": [],
   "source": [
    "from keras.layers import Conv1D, MaxPooling1D, Embedding\n",
    "from keras.models import Sequential, load_model\n",
    "from keras import losses\n",
    "from tensorflow.keras.optimizers import Adam\n",
    "from tensorflow.keras.models import Model\n",
    "from keras.utils.vis_utils import plot_model\n",
    "from keras.callbacks import EarlyStopping"
   ]
  },
  {
   "cell_type": "code",
   "execution_count": 100,
   "id": "afc1ae11",
   "metadata": {},
   "outputs": [],
   "source": [
    "vocab_size = 5000\n",
    "embedding_size = 32\n",
    "epochs=50\n",
    "\n",
    "model= Sequential()\n",
    "model.add(Embedding(vocab_size, embedding_size, input_length=max_len))\n",
    "model.add(Conv1D(filters=32, kernel_size=3, padding='same', activation='relu'))\n",
    "model.add(MaxPooling1D(pool_size=2))\n",
    "model.add(Bidirectional(LSTM(32)))\n",
    "model.add(Dropout(0.4))\n",
    "model.add(Dense(3, activation='sigmoid'))"
   ]
  },
  {
   "cell_type": "code",
   "execution_count": 101,
   "id": "420c335b",
   "metadata": {},
   "outputs": [
    {
     "name": "stdout",
     "output_type": "stream",
     "text": [
      "Model: \"sequential_3\"\n",
      "_________________________________________________________________\n",
      " Layer (type)                Output Shape              Param #   \n",
      "=================================================================\n",
      " embedding_3 (Embedding)     (None, 300, 32)           160000    \n",
      "                                                                 \n",
      " conv1d_2 (Conv1D)           (None, 300, 32)           3104      \n",
      "                                                                 \n",
      " max_pooling1d_2 (MaxPooling  (None, 150, 32)          0         \n",
      " 1D)                                                             \n",
      "                                                                 \n",
      " bidirectional_2 (Bidirectio  (None, 64)               16640     \n",
      " nal)                                                            \n",
      "                                                                 \n",
      " dropout_2 (Dropout)         (None, 64)                0         \n",
      "                                                                 \n",
      " dense_2 (Dense)             (None, 3)                 195       \n",
      "                                                                 \n",
      "=================================================================\n",
      "Total params: 179,939\n",
      "Trainable params: 179,939\n",
      "Non-trainable params: 0\n",
      "_________________________________________________________________\n",
      "None\n"
     ]
    }
   ],
   "source": [
    "model.compile(loss='categorical_crossentropy', optimizer='adam', metrics=['accuracy'])\n",
    "print(model.summary())"
   ]
  },
  {
   "cell_type": "code",
   "execution_count": 102,
   "id": "eb743696",
   "metadata": {},
   "outputs": [
    {
     "name": "stdout",
     "output_type": "stream",
     "text": [
      "Epoch 1/50\n"
     ]
    },
    {
     "name": "stderr",
     "output_type": "stream",
     "text": [
      "2022-11-12 14:28:57.059924: W tensorflow/core/platform/profile_utils/cpu_utils.cc:128] Failed to get CPU frequency: 0 Hz\n",
      "2022-11-12 14:28:58.303231: I tensorflow/core/grappler/optimizers/custom_graph_optimizer_registry.cc:114] Plugin optimizer for device_type GPU is enabled.\n",
      "2022-11-12 14:28:59.009052: I tensorflow/core/grappler/optimizers/custom_graph_optimizer_registry.cc:114] Plugin optimizer for device_type GPU is enabled.\n",
      "2022-11-12 14:28:59.034326: I tensorflow/core/grappler/optimizers/custom_graph_optimizer_registry.cc:114] Plugin optimizer for device_type GPU is enabled.\n",
      "2022-11-12 14:29:01.875285: I tensorflow/core/grappler/optimizers/custom_graph_optimizer_registry.cc:114] Plugin optimizer for device_type GPU is enabled.\n",
      "2022-11-12 14:29:01.892935: I tensorflow/core/grappler/optimizers/custom_graph_optimizer_registry.cc:114] Plugin optimizer for device_type GPU is enabled.\n"
     ]
    },
    {
     "name": "stdout",
     "output_type": "stream",
     "text": [
      "67/67 [==============================] - ETA: 0s - loss: 0.9529 - accuracy: 0.4749"
     ]
    },
    {
     "name": "stderr",
     "output_type": "stream",
     "text": [
      "2022-11-12 14:29:11.850260: I tensorflow/core/grappler/optimizers/custom_graph_optimizer_registry.cc:114] Plugin optimizer for device_type GPU is enabled.\n",
      "2022-11-12 14:29:11.944929: I tensorflow/core/grappler/optimizers/custom_graph_optimizer_registry.cc:114] Plugin optimizer for device_type GPU is enabled.\n",
      "2022-11-12 14:29:11.954519: I tensorflow/core/grappler/optimizers/custom_graph_optimizer_registry.cc:114] Plugin optimizer for device_type GPU is enabled.\n"
     ]
    },
    {
     "name": "stdout",
     "output_type": "stream",
     "text": [
      "67/67 [==============================] - 17s 150ms/step - loss: 0.9529 - accuracy: 0.4749 - val_loss: 0.7938 - val_accuracy: 0.7413\n",
      "Epoch 2/50\n",
      "67/67 [==============================] - 6s 85ms/step - loss: 0.3950 - accuracy: 0.8417 - val_loss: 0.1410 - val_accuracy: 0.9560\n",
      "Epoch 3/50\n",
      "67/67 [==============================] - 6s 84ms/step - loss: 0.0805 - accuracy: 0.9804 - val_loss: 0.0624 - val_accuracy: 0.9840\n",
      "Epoch 4/50\n",
      "67/67 [==============================] - 6s 83ms/step - loss: 0.0418 - accuracy: 0.9887 - val_loss: 0.0400 - val_accuracy: 0.9868\n",
      "Epoch 5/50\n",
      "67/67 [==============================] - 5s 82ms/step - loss: 0.0341 - accuracy: 0.9908 - val_loss: 0.0287 - val_accuracy: 0.9923\n",
      "Epoch 6/50\n",
      "67/67 [==============================] - 5s 82ms/step - loss: 0.0220 - accuracy: 0.9932 - val_loss: 0.0197 - val_accuracy: 0.9906\n",
      "Epoch 7/50\n",
      "67/67 [==============================] - 6s 84ms/step - loss: 0.0210 - accuracy: 0.9927 - val_loss: 0.0170 - val_accuracy: 0.9934\n",
      "Epoch 8/50\n",
      "67/67 [==============================] - 5s 82ms/step - loss: 0.0204 - accuracy: 0.9913 - val_loss: 0.0194 - val_accuracy: 0.9939\n",
      "Epoch 9/50\n",
      "67/67 [==============================] - 5s 82ms/step - loss: 0.0180 - accuracy: 0.9927 - val_loss: 0.0231 - val_accuracy: 0.9884\n",
      "Epoch 10/50\n",
      "67/67 [==============================] - 6s 84ms/step - loss: 0.0184 - accuracy: 0.9932 - val_loss: 0.0194 - val_accuracy: 0.9895\n",
      "Epoch 11/50\n",
      "67/67 [==============================] - 6s 84ms/step - loss: 0.0158 - accuracy: 0.9939 - val_loss: 0.0186 - val_accuracy: 0.9895\n",
      "Epoch 12/50\n",
      "67/67 [==============================] - 6s 84ms/step - loss: 0.0153 - accuracy: 0.9939 - val_loss: 0.0122 - val_accuracy: 0.9956\n",
      "Epoch 13/50\n",
      "67/67 [==============================] - 6s 83ms/step - loss: 0.0149 - accuracy: 0.9953 - val_loss: 0.0153 - val_accuracy: 0.9934\n",
      "Epoch 14/50\n",
      "67/67 [==============================] - 6s 84ms/step - loss: 0.0182 - accuracy: 0.9920 - val_loss: 0.0201 - val_accuracy: 0.9923\n",
      "Epoch 15/50\n",
      "67/67 [==============================] - 6s 84ms/step - loss: 0.0125 - accuracy: 0.9941 - val_loss: 0.0117 - val_accuracy: 0.9956\n",
      "Epoch 16/50\n",
      "67/67 [==============================] - 5s 82ms/step - loss: 0.0107 - accuracy: 0.9953 - val_loss: 0.0119 - val_accuracy: 0.9939\n",
      "Epoch 17/50\n",
      "67/67 [==============================] - 5s 82ms/step - loss: 0.0119 - accuracy: 0.9941 - val_loss: 0.0114 - val_accuracy: 0.9939\n",
      "Epoch 18/50\n",
      "67/67 [==============================] - 5s 82ms/step - loss: 0.0103 - accuracy: 0.9941 - val_loss: 0.0135 - val_accuracy: 0.9923\n",
      "Epoch 19/50\n",
      "67/67 [==============================] - 5s 82ms/step - loss: 0.0114 - accuracy: 0.9943 - val_loss: 0.0110 - val_accuracy: 0.9934\n",
      "Epoch 20/50\n",
      "67/67 [==============================] - 5s 82ms/step - loss: 0.0089 - accuracy: 0.9950 - val_loss: 0.0090 - val_accuracy: 0.9945\n",
      "Epoch 21/50\n",
      "67/67 [==============================] - 6s 83ms/step - loss: 0.0081 - accuracy: 0.9960 - val_loss: 0.0075 - val_accuracy: 0.9972\n",
      "Epoch 22/50\n",
      "67/67 [==============================] - 6s 83ms/step - loss: 0.0086 - accuracy: 0.9950 - val_loss: 0.0081 - val_accuracy: 0.9939\n",
      "Epoch 23/50\n",
      "67/67 [==============================] - 6s 83ms/step - loss: 0.0085 - accuracy: 0.9953 - val_loss: 0.0070 - val_accuracy: 0.9978\n",
      "Epoch 24/50\n",
      "67/67 [==============================] - 6s 84ms/step - loss: 0.0080 - accuracy: 0.9960 - val_loss: 0.0092 - val_accuracy: 0.9939\n",
      "Epoch 25/50\n",
      "67/67 [==============================] - 6s 83ms/step - loss: 0.0085 - accuracy: 0.9946 - val_loss: 0.0081 - val_accuracy: 0.9956\n",
      "Epoch 26/50\n",
      "67/67 [==============================] - 6s 83ms/step - loss: 0.0084 - accuracy: 0.9958 - val_loss: 0.0087 - val_accuracy: 0.9961\n",
      "Epoch 27/50\n",
      "67/67 [==============================] - 6s 83ms/step - loss: 0.0084 - accuracy: 0.9955 - val_loss: 0.0085 - val_accuracy: 0.9961\n",
      "Epoch 28/50\n",
      "67/67 [==============================] - 6s 83ms/step - loss: 0.0072 - accuracy: 0.9955 - val_loss: 0.0070 - val_accuracy: 0.9956\n"
     ]
    }
   ],
   "source": [
    "es = EarlyStopping(monitor = 'val_loss', patience=5)\n",
    "batch_size = 64\n",
    "\n",
    "history = model.fit(X_trn, y_trn,\n",
    "                    validation_data=(X_vld, y_vld),\n",
    "                    batch_size=batch_size, epochs=epochs, verbose=1,\n",
    "                    callbacks = [es])"
   ]
  },
  {
   "cell_type": "code",
   "execution_count": 103,
   "id": "23485034",
   "metadata": {},
   "outputs": [
    {
     "name": "stdout",
     "output_type": "stream",
     "text": [
      "Accuracy  : 0.9941\n"
     ]
    }
   ],
   "source": [
    "loss, accuracy = model.evaluate(X_tst, y_tst, verbose=0)\n",
    "\n",
    "# Print metrics\n",
    "print('Accuracy  : {:.4f}'.format(accuracy))"
   ]
  },
  {
   "cell_type": "markdown",
   "id": "df7cd3ed",
   "metadata": {},
   "source": [
    "Wow, this accuracy is extremely high, let's take a look at our loss vs validation loss graph as well as accuracy vs validation accuracy."
   ]
  },
  {
   "cell_type": "code",
   "execution_count": 104,
   "id": "78da4cb2",
   "metadata": {},
   "outputs": [
    {
     "data": {
      "image/png": "[encoded data removed]",
      "text/plain": [
       "<Figure size 1200x400 with 2 Axes>"
      ]
     },
     "metadata": {},
     "output_type": "display_data"
    }
   ],
   "source": [
    "plt.figure(figsize=(12, 4))\n",
    "\n",
    "plt.subplot(1, 2, 1)\n",
    "plt.plot(history.history['loss'], 'b--', label = 'loss')\n",
    "plt.plot(history.history['val_loss'], 'r:', label = 'val_loss')\n",
    "plt.xlabel('Epochs')\n",
    "plt.legend()\n",
    "\n",
    "plt.subplot(1, 2, 2)\n",
    "plt.plot(history.history['accuracy'], 'b--', label = 'acc')\n",
    "plt.plot(history.history['val_accuracy'], 'r:', label = 'val_acc')\n",
    "plt.xlabel('Epochs')\n",
    "plt.legend()\n",
    "\n",
    "plt.show()"
   ]
  },
  {
   "cell_type": "markdown",
   "id": "6cf5390c",
   "metadata": {},
   "source": [
    "These graphs look very promising. Based on both of them we can see that we leveled off around 5 epochs. There is no major discrepancies between the testing and validation set."
   ]
  },
  {
   "cell_type": "code",
   "execution_count": 105,
   "id": "5ba54564",
   "metadata": {},
   "outputs": [
    {
     "name": "stderr",
     "output_type": "stream",
     "text": [
      "2022-11-12 14:31:46.370931: I tensorflow/core/grappler/optimizers/custom_graph_optimizer_registry.cc:114] Plugin optimizer for device_type GPU is enabled.\n",
      "2022-11-12 14:31:46.433875: I tensorflow/core/grappler/optimizers/custom_graph_optimizer_registry.cc:114] Plugin optimizer for device_type GPU is enabled.\n",
      "2022-11-12 14:31:46.442839: I tensorflow/core/grappler/optimizers/custom_graph_optimizer_registry.cc:114] Plugin optimizer for device_type GPU is enabled.\n"
     ]
    },
    {
     "name": "stdout",
     "output_type": "stream",
     "text": [
      "48/48 [==============================] - 3s 39ms/step\n"
     ]
    },
    {
     "data": {
      "image/png": "[encoded data removed]",
      "text/plain": [
       "<Figure size 800x600 with 2 Axes>"
      ]
     },
     "metadata": {},
     "output_type": "display_data"
    }
   ],
   "source": [
    "def plot_confusion_matrix(model, X_test, y_test):\n",
    "    \n",
    "    classes = ['Thyroid_Cancer', 'Colon_Cancer', 'Lung_Cancer']\n",
    "    y_pred = model.predict(X_test)\n",
    "    cm = confusion_matrix(np.argmax(np.array(y_test),axis=1), np.argmax(y_pred, axis=1))\n",
    "    plt.figure(figsize=(8,6))\n",
    "    sns.heatmap(cm, cmap=plt.cm.Blues, annot=True, fmt='d', \n",
    "                xticklabels=classes,\n",
    "                yticklabels=classes)\n",
    "    plt.title('Confusion matrix', fontsize=16)\n",
    "    plt.xlabel('Actual label', fontsize=12)\n",
    "    plt.ylabel('Predicted label', fontsize=12)\n",
    "    \n",
    "plot_confusion_matrix(model, X_tst, y_tst)"
   ]
  },
  {
   "cell_type": "markdown",
   "id": "59cc4baf",
   "metadata": {},
   "source": [
    "### Analysis and Hyperparameter Discussion"
   ]
  },
  {
   "cell_type": "markdown",
   "id": "276f8339",
   "metadata": {},
   "source": [
    "Based on the results we can see our LSTM performed much better than the LDA model. In this case it was very easy to see that supervised learning was the correct choice for our model. The model consisted of 1 convolutional layer, 1 pooling layer, 1 bidirectional layer and 1 dropout layer to help with any overfitting. Lastly we had a dense layer with a sigmoid activation function. Here our hyperparameters to tune are really limitless. There is no cap on the amount of convolutional, pooling or dense layers we can have in our model. Based on the results it can be inferred that a simple LSTM did the trick, thus no further hyperparameter tuning was needed. We can also see that 50 epochs was far too many and that our loss and accuracy really flattened out around 5 epochs."
   ]
  },
  {
   "cell_type": "markdown",
   "id": "62d8ae95",
   "metadata": {},
   "source": [
    "### Conclusions"
   ]
  },
  {
   "cell_type": "markdown",
   "id": "9e62b224",
   "metadata": {},
   "source": [
    "The first question we should be asking ourselves is what went wrong in the LDA model and what went right in the LSTM model? LDA is a probabilistic model, which means that it is not always accurate. Additionally, LDA can be slow to converge on a good solution. Lastly, LDA does not work well with short documents, although our text was not incredibly short, 2000-4000 words may have not been enough. For the LSTM, we can attribute the success of the model to many different things, simply put though the architecture for the model allows it to exhibit temporal behavior and capture sequential data which makes it a more 'natural' approach when dealing with textual data since text is naturally sequential."
   ]
  },
  {
   "cell_type": "markdown",
   "id": "657d2a3a",
   "metadata": {},
   "source": [
    "Sources:\n",
    "\n",
    "https://towardsdatascience.com/end-to-end-topic-modeling-in-python-latent-dirichlet-allocation-lda-35ce4ed6b3e0\n",
    "\n",
    "https://medium.com/@aneeshpanoli/classifying-unstructured-healthcare-text-with-natural-language-processing-899bf8a286cf\n",
    "\n",
    "https://www.tokenex.com/blog/ab-what-is-nlp-natural-language-processing-tokenization/#:~:text=Tokenization%20is%20used%20in%20natural,into%20understandable%20parts%20(words).\n",
    "\n",
    "https://medium.com/analytics-vidhya/getting-started-with-nlp-tokenization-document-term-matrix-tf-idf-2ea7d01f1942\n",
    "\n",
    "https://www.tutorialspoint.com/gensim/gensim_creating_a_bag_of_words_corpus.htm\n",
    "\n",
    "https://www.analyticsvidhya.com/blog/2020/04/beginners-guide-exploratory-data-analysis-text-data/\n",
    "\n",
    "https://www.kaggle.com/code/mattison/unsupervised-matrix-factorization"
   ]
  },
  {
   "cell_type": "code",
   "execution_count": null,
   "id": "ded1ae97",
   "metadata": {},
   "outputs": [],
   "source": []
  }
 ],
 "metadata": {
  "kernelspec": {
   "display_name": "Python 3 (ipykernel)",
   "language": "python",
   "name": "python3"
  },
  "language_info": {
   "codemirror_mode": {
    "name": "ipython",
    "version": 3
   },
   "file_extension": ".py",
   "mimetype": "text/x-python",
   "name": "python",
   "nbconvert_exporter": "python",
   "pygments_lexer": "ipython3",
   "version": "3.8.13"
  }
 },
 "nbformat": 4,
 "nbformat_minor": 5
}
